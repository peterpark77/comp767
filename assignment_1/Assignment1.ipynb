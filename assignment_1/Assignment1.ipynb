{
 "cells": [
  {
   "cell_type": "markdown",
   "metadata": {},
   "source": [
    "# ASSIGNMENT 1                                                McGill:COMP767 - FALL 2019 \n",
    "Student name (ID)"
   ]
  },
  {
   "cell_type": "code",
   "execution_count": 17,
   "metadata": {},
   "outputs": [],
   "source": [
    "import numpy as np\n",
    "import networkx as nx\n",
    "from collections import OrderedDict\n",
    "from utils import tensor_mult"
   ]
  },
  {
   "cell_type": "markdown",
   "metadata": {},
   "source": [
    "### Problem 1. (5 points)\n",
    "\n",
    "- __a__: 2 points) Derive the __Markov__ inequality below for a positive discrete random variable\n",
    "(_Hint:_ rearrange to prove $a P(x \\geq a) \\leq \\mathbb{E}[X]$ and substitute the definition of expectation.)\n",
    "$$P(x > a) \\leq \\frac{\\mathbb{E}[X]}{a}$$\n",
    "- __b__: 3 points) Using this inequality prove the following, known as __Chebyshev__ inequality:\n",
    "$$P(|X - \\mathbb{E}[X]| > a) < \\frac{Var(X)}{a^2}$$"
   ]
  },
  {
   "cell_type": "markdown",
   "metadata": {},
   "source": [
    "### Solution\n",
    "__a__) \n",
    "\n",
    "From definition of expected value we have:\n",
    "\n",
    "$$\\mathbb{E}(X) = \\int_{-\\infty}^\\infty x f(x) dx$$\n",
    "and if $X$ is non-negative random variable, we have:\n",
    "\n",
    "$$\\int_{-\\infty}^\\infty x f(x) dx = \\int_0^\\infty xf(x)dx$$\n",
    "\n",
    "Hence from the derivation we have\n",
    "\n",
    "$$\\mathbb{E}(X) = \\int_{0}^a x f(x) dx + \\int_a^\\infty xf(x)dx \\geq \\int_a^\\infty xf(x)dx \\geq a\\int_a^\\infty f(x)dx = a \\mathbb{P}(X \\geq a)$$\n",
    "\n",
    "and given this we have\n",
    "\n",
    "$$\\mathbb{P}(x > a) \\leq \\frac{\\mathbb{E}[X]}{a}$$\n",
    "\n",
    "\n",
    "__b__) \n",
    "\n",
    "By the definition of variance we have :\n",
    "$$\\text{Var}(X) = \\mathbb{E}[(X - \\mathbb{E}(X))^2]$$\n",
    "\n",
    "Hence we can write the given equation as following as the expected value in the numerator represents the expected value\n",
    "\n",
    "$$\\mathbb{P}((X - \\mathbb{E}[X])^2 > a^2) < \\frac{Var(X)}{a^2}$$\n",
    "\n",
    "\n",
    "using Markov's inequality this is as now the denominator $a^2$ is now constant"
   ]
  },
  {
   "cell_type": "markdown",
   "metadata": {},
   "source": [
    "### Problem 2. (5 points)\n",
    "\n",
    "In showing that factorization in a Markov Network leads to local CIs we used the\n",
    "following fact. Prove it using the definition of conditional independence:\n",
    "\n",
    "$$\n",
    "P \\models (X \\perp Y \\mid Z) \\quad \\Leftrightarrow \\quad P(X=x, Y=y, Z=z) = f(x, z)g(y,z) \n",
    "$$\n"
   ]
  },
  {
   "cell_type": "markdown",
   "metadata": {},
   "source": [
    "### Solution\n",
    "\n",
    "- $\\Rightarrow$) 2 points \n",
    "The left side of this equivalence can be represented by following\n",
    "$$\\frac{\\phi_1(X,Z) \\phi_2(Y,Z)}{C}$$\n",
    "\n",
    "where $C$ is normalizaing constant : $C := \\sum_{x,y,z} \\phi_1(x,z)\\phi_2(y,z)$\n",
    "\n",
    "Let \n",
    "\n",
    "1. $f(x,z) = \\frac{\\phi_1(x,z)}{\\sum_{x,y,z} \\phi_1(x,z)\\phi_2(y,z)}$\n",
    "2. $g(y,z) = \\phi_2(y,z)$\n",
    "\n",
    "- $\\Leftarrow$) 3 points\n",
    "\n",
    "We have due to conditional probability:\n",
    "\n",
    "$$\\mathbb{P}(X = x, Y = y, Z= z) = \\mathbb{P}(X = x , Y = y | Z = z)\\mathbb{P}(Z = z)$$\n",
    "\n",
    "hence then we have the following\n",
    "\n",
    "$$\\mathbb{P}(X = x , Y = y | Z = z)\\mathbb{P}(Z = z) = f(x, z)g(y,z) $$\n",
    "\n",
    "and \n",
    "\n",
    "$$\\mathbb{P}(X = x , Y = y | Z = z) = \\frac{f(x, z)g(y,z)}{\\mathbb{P}(Z = z)} $$\n",
    "\n",
    "If we let $\\phi_1(X=x,Z=z) = \\frac{f(x,z)}{\\mathbb{P}(Z=z)}$ , and $\\phi_2(Y=y, Z=z) = g(y,z)$, then we have\n",
    "\n",
    "$$\\mathbb{P}(X = x , Y = y | Z = z) = \\frac{\\phi_1(X=x,Z=z)\\phi_2(Y=y, Z=z)}{C} = \\frac{\\phi_1(X,Z) \\phi_2(Y,Z)}{C}$$\n",
    "\n",
    "where in our case $C = 1$ which represents our factorization of Markov Network $P \\models (X \\perp Y \\mid Z)$.\n"
   ]
  },
  {
   "cell_type": "markdown",
   "metadata": {},
   "source": [
    "### Problem 3. (10 points)\n",
    "\n",
    "Here, we want to represent the joint probability $P(D,I,G,S,L)$ and answer arbitrary queries such as $P(D,I \\mid G=0, L=1)$ for the running example below that we used extensively in the class.\n",
    "<img src=\"./files/3_4.png\" width=\"400\">\n",
    "For this, we need to define CPTs. We use the ```networkx``` package to represent a DAG and add CPTs as node attributes. the CPT for a node with $K$ parents is a $K+1$ dimensional array, where the first dimension is for the child node and the order of parents follows their order when the method ```DAG.predecessors(node)``` is called. This is the order in which the corresponding edges are added. \n",
    "\n",
    "Your task is to write the body of the function ```Pr()``` that calculates the array of the posterior marginal, given a DAG -- e.g., $P(D, L \\mid G= 2, I = 1)$. \n",
    "For your implementation you can use the ```tensor_mult``` helper function provided in ```utility.py```. \n",
    "\n",
    "You can try implementing this function in three steps:\n",
    "\n",
    "- calculate the joint PMF\n",
    "- condition on the evidence (e.g., by multiplying the joint array with appropriate tensor of 0s and 1s.\n",
    "- marginalize and normalize the final results (normalization might be necessary depending on your implementation of conditioning on the evidence)\n",
    "\n",
    "There are more efficient ways of calculating the posterior marginals that we study in the __inference__ lectures.\n",
    "\n",
    "### Solution"
   ]
  },
  {
   "cell_type": "code",
   "execution_count": 61,
   "metadata": {
    "scrolled": true
   },
   "outputs": [
    {
     "ename": "IndentationError",
     "evalue": "expected an indented block (<ipython-input-61-83f6f2a51408>, line 105)",
     "output_type": "error",
     "traceback": [
      "\u001b[0;36m  File \u001b[0;32m\"<ipython-input-61-83f6f2a51408>\"\u001b[0;36m, line \u001b[0;32m105\u001b[0m\n\u001b[0;31m    marginal /= marginal.sum()\u001b[0m\n\u001b[0m    ^\u001b[0m\n\u001b[0;31mIndentationError\u001b[0m\u001b[0;31m:\u001b[0m expected an indented block\n"
     ]
    }
   ],
   "source": [
    "\n",
    "# creating the BayesNet\n",
    "BN = nx.DiGraph()\n",
    "BN.add_node('D', cpt=np.array([.6,.4]))\n",
    "BN.add_node('I', cpt=np.array([.7,.3]))\n",
    "\n",
    "#a 3-dimensional array of shape 3x2x2 representing P(G|I,D).  \n",
    "#note that the order of parents matters, here we have made sure the order is the same as\n",
    "#the order returned by BN.predecessors('G')\n",
    "BN.add_node('G', cpt=np.array([[[.3,.05],[.9,.5]],[[.4,.25],[.08,.3]],[[.3,.7],[.02,.2]]]))\n",
    "BN.add_node('L', cpt=np.array([[.1,.4,.99],[.9,.6,.01]]))\n",
    "BN.add_node('S', cpt=np.array([[.95,.2],[.05,.8]]))\n",
    "\n",
    "# adding edges (note that the order of I,D -> G is important)\n",
    "BN.add_edge('I','G')\n",
    "BN.add_edge('D','G')\n",
    "BN.add_edge('G', 'L')\n",
    "BN.add_edge('I', 'S')\n",
    "\n",
    "print(\"Is this a DAG? {}\".format(nx.is_directed_acyclic_graph(BN)))\n",
    "# we can use topological sort to get a topological ordering of nodes. What is the complexity of this sorting op.?\n",
    "list(nx.topological_sort(BN))\n",
    "\n",
    "\n",
    "def Pr(target, \n",
    "       evidence, # a dictionary of observations to conditin on -- eg, {'L':0, 'I':1}\n",
    "       DAG #DAG containing the CPTs (BN above)\n",
    "      ):\n",
    "\n",
    "    # >>>> YOUR CODE HERE >>>>>>>\n",
    "    \n",
    "    #1. calculate joint pmf\n",
    "    ## gives |G| = 3, |I| = 2, |D| = 2 in this order\n",
    "    P_G_L = tensor_mult(BN.node[\"G\"][\"cpt\"], BN.node[\"L\"][\"cpt\"], [0],[1])\n",
    "    P_G_L_I = tensor_mult(P_G_L, BN.node[\"I\"][\"cpt\"], [1],[0])\n",
    "    P_G_L_I_D = tensor_mult(P_G_L_I, BN.node[\"D\"][\"cpt\"], [1],[0])\n",
    "    joint= tensor_mult(P_G_L_I_D, BN.node[\"S\"][\"cpt\"], [1],[1])    \n",
    "    \n",
    "    #final joint order (|G|, |I|,|L|, |D|, |S| ) \n",
    "    \n",
    "    A = np.empty((3,2,2,2,2))\n",
    "    \n",
    "    \n",
    "    marginal = []\n",
    "    \n",
    "    target_keys = list(target.keys())\n",
    "    \n",
    "    for i in target_keys:\n",
    "        if i == \"G\":\n",
    "            marginal.extend(3)\n",
    "        else:\n",
    "            marginal.extend(2)\n",
    "            \n",
    "    marginal = np.empty(marginal)\n",
    "    \n",
    "    \n",
    "    evidence_sum_keys = BN.nodes() - evidence.keys()\n",
    "    evidence_prob = 0\n",
    "    index = {\"G\" : 0 , \"I\" : 0 , \"L\" : 0, \"D\" : 0, \"S\" : 0}\n",
    "\n",
    "    for i in evidence.keys():\n",
    "        index[i] = evidence[i]\n",
    "    \n",
    "    for i in target.keys():\n",
    "        index[i] = target[i]\n",
    "    \n",
    "    \n",
    "    for i in evidence_sum_keys:\n",
    "        if i == \"G\":\n",
    "            for j in range(0,2):\n",
    "                A[index[\"G\"]][index[\"I\"]][index[\"L\"]][index[\"D\"]][index[\"S\"]] += 1\n",
    "                index[i] += 1 \n",
    "                evidence_prob += np.dot(A, joint)\n",
    "        else:\n",
    "            for j in range(0,1):\n",
    "                A[index[\"G\"]][index[\"I\"]][index[\"L\"]][index[\"D\"]][index[\"S\"]] += 1\n",
    "                index[i] += 1\n",
    "                evidence_prob += np.dot(A, joint)\n",
    "\n",
    "    index = {\"G\" : 0 , \"I\" : 0 , \"L\" : 0, \"D\" : 0, \"S\" : 0}\n",
    "    \n",
    "    for i in evidence.keys():\n",
    "        index[i] = evidence[i]\n",
    "        \n",
    "    numerator_index = BN.nodes() - evidence.keys() - target.keys()\n",
    "    \n",
    "    A = np.empty((3,2,2,2,2))\n",
    "    \n",
    "    \n",
    "    q = 0\n",
    "    for i in numerator_index:\n",
    "        if i == \"G\":\n",
    "            for j in range(0,2):\n",
    "                A[index[\"G\"]][index[\"I\"]][index[\"L\"]][index[\"D\"]][index[\"S\"]] += 1\n",
    "                index[i] += 1\n",
    "                q +=  np.dot(A, joint)\n",
    "        else:\n",
    "            for j in range(0,1):\n",
    "                \n",
    "        \n",
    "    \n",
    "                    \n",
    "    # >>>> YOUR CODE HERE >>>>>>>\n",
    "    \n",
    "    marginal /= marginal.sum()\n",
    "    \n",
    "    return marginal\n",
    "\n"
   ]
  },
  {
   "cell_type": "markdown",
   "metadata": {},
   "source": [
    "### Problem 4. (10 points)\n",
    "\n",
    "Your task in this assignment is to implement __D-separation__ algorithm for a DAG representation, similar to what we used in the previous problem. Note that (assuming non-deterministic factors) D-separation does not need access to the CPTs. The following function returns ```True``` if the given CI holds and ```False``` otherwise."
   ]
  },
  {
   "cell_type": "code",
   "execution_count": 16,
   "metadata": {},
   "outputs": [
    {
     "ename": "SyntaxError",
     "evalue": "unexpected EOF while parsing (<ipython-input-16-ae9d1d9cccea>, line 8)",
     "output_type": "error",
     "traceback": [
      "\u001b[0;36m  File \u001b[0;32m\"<ipython-input-16-ae9d1d9cccea>\"\u001b[0;36m, line \u001b[0;32m8\u001b[0m\n\u001b[0;31m    # >>>> YOUR CODE HERE >>>>>>>\u001b[0m\n\u001b[0m                                 ^\u001b[0m\n\u001b[0;31mSyntaxError\u001b[0m\u001b[0;31m:\u001b[0m unexpected EOF while parsing\n"
     ]
    }
   ],
   "source": [
    "def is_cond_independent(X, #non-empty list of nodes -- e.g., ['I', 'D'] \n",
    "                        Y, #non-empty list of nodes. It has no intersection with X -- e.g., ['S']\n",
    "                        Z, #list of nodes -- e.g., []\n",
    "                        DAG #networkx DAG -- e.g., BN defined above\n",
    "                       ):\n",
    "    # >>>> YOUR CODE HERE >>>>>>>\n",
    "    \n",
    "    # >>>> YOUR CODE HERE >>>>>>>"
   ]
  },
  {
   "cell_type": "markdown",
   "metadata": {},
   "source": [
    "Let us verify that the CIs that we get from D-separation, match the definition of conditional independence using the conditional probabilities that we can numerically calculate using your solution to the problem 3. \n",
    "In the following we look at all queries in the form of $P \\overset{?}{\\models} {D} \\perp {S} \\mid \\mathbf{Z} = \\mathbf{0}$, where $\\mathbf{Z} \\subseteq \\{I,G,L\\}$ may contain any of the remaining variables. "
   ]
  },
  {
   "cell_type": "code",
   "execution_count": 4,
   "metadata": {},
   "outputs": [
    {
     "ename": "NameError",
     "evalue": "name 'is_cond_independent' is not defined",
     "output_type": "error",
     "traceback": [
      "\u001b[0;31m---------------------------------------------------------------------------\u001b[0m",
      "\u001b[0;31mNameError\u001b[0m                                 Traceback (most recent call last)",
      "\u001b[0;32m<ipython-input-4-6371c9326474>\u001b[0m in \u001b[0;36m<module>\u001b[0;34m()\u001b[0m\n\u001b[1;32m      2\u001b[0m \u001b[0;32mfor\u001b[0m \u001b[0mZ\u001b[0m \u001b[0;32min\u001b[0m \u001b[0;34m[\u001b[0m\u001b[0;34m{\u001b[0m\u001b[0;34m}\u001b[0m\u001b[0;34m,\u001b[0m\u001b[0;34m{\u001b[0m\u001b[0;34m'I'\u001b[0m\u001b[0;34m:\u001b[0m\u001b[0;36m0\u001b[0m\u001b[0;34m}\u001b[0m\u001b[0;34m,\u001b[0m \u001b[0;34m{\u001b[0m\u001b[0;34m'G'\u001b[0m\u001b[0;34m:\u001b[0m\u001b[0;36m0\u001b[0m\u001b[0;34m}\u001b[0m\u001b[0;34m,\u001b[0m \u001b[0;34m{\u001b[0m\u001b[0;34m'L'\u001b[0m\u001b[0;34m:\u001b[0m\u001b[0;36m0\u001b[0m\u001b[0;34m}\u001b[0m\u001b[0;34m,\u001b[0m \u001b[0;34m{\u001b[0m\u001b[0;34m'I'\u001b[0m\u001b[0;34m:\u001b[0m\u001b[0;36m0\u001b[0m\u001b[0;34m,\u001b[0m\u001b[0;34m'G'\u001b[0m\u001b[0;34m:\u001b[0m\u001b[0;36m0\u001b[0m\u001b[0;34m}\u001b[0m\u001b[0;34m,\u001b[0m \u001b[0;34m{\u001b[0m\u001b[0;34m'I'\u001b[0m\u001b[0;34m:\u001b[0m\u001b[0;36m0\u001b[0m\u001b[0;34m,\u001b[0m\u001b[0;34m'L'\u001b[0m\u001b[0;34m:\u001b[0m\u001b[0;36m0\u001b[0m\u001b[0;34m}\u001b[0m\u001b[0;34m,\u001b[0m \u001b[0;34m{\u001b[0m\u001b[0;34m'L'\u001b[0m\u001b[0;34m:\u001b[0m\u001b[0;36m0\u001b[0m\u001b[0;34m,\u001b[0m\u001b[0;34m'G'\u001b[0m\u001b[0;34m:\u001b[0m\u001b[0;36m0\u001b[0m\u001b[0;34m}\u001b[0m\u001b[0;34m,\u001b[0m \u001b[0;34m{\u001b[0m\u001b[0;34m'I'\u001b[0m\u001b[0;34m:\u001b[0m\u001b[0;36m0\u001b[0m\u001b[0;34m,\u001b[0m\u001b[0;34m'G'\u001b[0m\u001b[0;34m:\u001b[0m\u001b[0;36m0\u001b[0m\u001b[0;34m,\u001b[0m\u001b[0;34m'L'\u001b[0m\u001b[0;34m:\u001b[0m\u001b[0;36m0\u001b[0m\u001b[0;34m}\u001b[0m\u001b[0;34m]\u001b[0m\u001b[0;34m:\u001b[0m\u001b[0;34m\u001b[0m\u001b[0m\n\u001b[1;32m      3\u001b[0m     \u001b[0;31m#conditional independence from D-separation\u001b[0m\u001b[0;34m\u001b[0m\u001b[0;34m\u001b[0m\u001b[0m\n\u001b[0;32m----> 4\u001b[0;31m     \u001b[0mCI_alg\u001b[0m \u001b[0;34m=\u001b[0m \u001b[0mis_cond_independent\u001b[0m\u001b[0;34m(\u001b[0m\u001b[0;34m[\u001b[0m\u001b[0;34m'D'\u001b[0m\u001b[0;34m]\u001b[0m\u001b[0;34m,\u001b[0m \u001b[0;34m[\u001b[0m\u001b[0;34m'S'\u001b[0m\u001b[0;34m]\u001b[0m\u001b[0;34m,\u001b[0m \u001b[0mZ\u001b[0m\u001b[0;34m.\u001b[0m\u001b[0mkeys\u001b[0m\u001b[0;34m(\u001b[0m\u001b[0;34m)\u001b[0m\u001b[0;34m,\u001b[0m \u001b[0mBN\u001b[0m\u001b[0;34m)\u001b[0m\u001b[0;34m\u001b[0m\u001b[0m\n\u001b[0m\u001b[1;32m      5\u001b[0m     \u001b[0;31m#conditional independence according to conditional probabilities\u001b[0m\u001b[0;34m\u001b[0m\u001b[0;34m\u001b[0m\u001b[0m\n\u001b[1;32m      6\u001b[0m     \u001b[0mCI_num\u001b[0m \u001b[0;34m=\u001b[0m \u001b[0mnp\u001b[0m\u001b[0;34m.\u001b[0m\u001b[0mmax\u001b[0m\u001b[0;34m(\u001b[0m\u001b[0mnp\u001b[0m\u001b[0;34m.\u001b[0m\u001b[0mabs\u001b[0m\u001b[0;34m(\u001b[0m\u001b[0mPr\u001b[0m\u001b[0;34m(\u001b[0m\u001b[0;34m[\u001b[0m\u001b[0;34m'D'\u001b[0m\u001b[0;34m,\u001b[0m\u001b[0;34m'S'\u001b[0m\u001b[0;34m]\u001b[0m\u001b[0;34m,\u001b[0m \u001b[0mZ\u001b[0m\u001b[0;34m,\u001b[0m \u001b[0mBN\u001b[0m\u001b[0;34m)\u001b[0m \u001b[0;34m-\u001b[0m \u001b[0mnp\u001b[0m\u001b[0;34m.\u001b[0m\u001b[0mouter\u001b[0m\u001b[0;34m(\u001b[0m\u001b[0mPr\u001b[0m\u001b[0;34m(\u001b[0m\u001b[0;34m[\u001b[0m\u001b[0;34m'D'\u001b[0m\u001b[0;34m]\u001b[0m\u001b[0;34m,\u001b[0m \u001b[0mZ\u001b[0m\u001b[0;34m,\u001b[0m \u001b[0mBN\u001b[0m\u001b[0;34m)\u001b[0m\u001b[0;34m,\u001b[0m\u001b[0mPr\u001b[0m\u001b[0;34m(\u001b[0m\u001b[0;34m[\u001b[0m\u001b[0;34m'S'\u001b[0m\u001b[0;34m]\u001b[0m\u001b[0;34m,\u001b[0m \u001b[0mZ\u001b[0m\u001b[0;34m,\u001b[0m \u001b[0mBN\u001b[0m\u001b[0;34m)\u001b[0m\u001b[0;34m)\u001b[0m\u001b[0;34m)\u001b[0m\u001b[0;34m)\u001b[0m \u001b[0;34m<\u001b[0m \u001b[0;36m1e-10\u001b[0m\u001b[0;34m\u001b[0m\u001b[0m\n",
      "\u001b[0;31mNameError\u001b[0m: name 'is_cond_independent' is not defined"
     ]
    }
   ],
   "source": [
    "domains = {'I':[0,1], 'L':[0,1], 'G':[0,1,2]}\n",
    "for Z in [{},{'I':0}, {'G':0}, {'L':0}, {'I':0,'G':0}, {'I':0,'L':0}, {'L':0,'G':0}, {'I':0,'G':0,'L':0}]:\n",
    "    #conditional independence from D-separation\n",
    "    CI_alg = is_cond_independent(['D'], ['S'], Z.keys(), BN)\n",
    "    #conditional independence according to conditional probabilities\n",
    "    CI_num = np.max(np.abs(Pr(['D','S'], Z, BN) - np.outer(Pr(['D'], Z, BN),Pr(['S'], Z, BN)))) < 1e-10\n",
    "    #they should match\n",
    "    assert(CI_num == CI_alg)\n",
    "print(\"passed the minimal test\")"
   ]
  },
  {
   "cell_type": "code",
   "execution_count": null,
   "metadata": {},
   "outputs": [],
   "source": []
  },
  {
   "cell_type": "code",
   "execution_count": null,
   "metadata": {},
   "outputs": [],
   "source": []
  }
 ],
 "metadata": {
  "kernelspec": {
   "display_name": "Python 3",
   "language": "python",
   "name": "python3"
  },
  "language_info": {
   "codemirror_mode": {
    "name": "ipython",
    "version": 3
   },
   "file_extension": ".py",
   "mimetype": "text/x-python",
   "name": "python",
   "nbconvert_exporter": "python",
   "pygments_lexer": "ipython3",
   "version": "3.5.6"
  }
 },
 "nbformat": 4,
 "nbformat_minor": 2
}
