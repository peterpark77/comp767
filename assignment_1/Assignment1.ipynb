{
 "cells": [
  {
   "cell_type": "markdown",
   "metadata": {},
   "source": [
    "# ASSIGNMENT 1                                                McGill:COMP767 - FALL 2019 \n",
    "Student name (ID)"
   ]
  },
  {
   "cell_type": "code",
   "execution_count": 1,
   "metadata": {},
   "outputs": [],
   "source": [
    "import numpy as np\n",
    "import networkx as nx\n",
    "from collections import OrderedDict\n",
    "from utils import tensor_mult"
   ]
  },
  {
   "cell_type": "markdown",
   "metadata": {},
   "source": [
    "### Problem 1. (5 points)\n",
    "\n",
    "- __a__: 2 points) Derive the __Markov__ inequality below for a positive discrete random variable\n",
    "(_Hint:_ rearrange to prove $a P(x \\geq a) \\leq \\mathbb{E}[X]$ and substitute the definition of expectation.)\n",
    "$$P(x > a) \\leq \\frac{\\mathbb{E}[X]}{a}$$\n",
    "- __b__: 3 points) Using this inequality prove the following, known as __Chebyshev__ inequality:\n",
    "$$P(|X - \\mathbb{E}[X]| > a) < \\frac{Var(X)}{a^2}$$"
   ]
  },
  {
   "cell_type": "markdown",
   "metadata": {},
   "source": [
    "### Solution\n",
    "__a__) \n",
    "\n",
    "From definition of expected value we have:\n",
    "\n",
    "$$\\mathbb{E}(X) = \\int_{-\\infty}^\\infty x f(x) dx$$\n",
    "and if $X$ is non-negative random variable, we have:\n",
    "\n",
    "$$\\int_{-\\infty}^\\infty x f(x) dx = \\int_0^\\infty xf(x)dx$$\n",
    "\n",
    "Hence from the derivation we have\n",
    "\n",
    "$$\\mathbb{E}(X) = \\int_{0}^a x f(x) dx + \\int_a^\\infty xf(x)dx \\geq \\int_a^\\infty xf(x)dx \\geq a\\int_a^\\infty f(x)dx = a \\mathbb{P}(X \\geq a)$$\n",
    "\n",
    "and given this we have\n",
    "\n",
    "$$\\mathbb{P}(x > a) \\leq \\frac{\\mathbb{E}[X]}{a}$$\n",
    "\n",
    "\n",
    "__b__) \n",
    "\n",
    "By the definition of variance we have :\n",
    "$$\\text{Var}(X) = \\mathbb{E}[(X - \\mathbb{E}(X))^2]$$\n",
    "\n",
    "Hence we can write the given equation as following as the expected value in the numerator represents the expected value\n",
    "\n",
    "$$\\mathbb{P}((X - \\mathbb{E}[X])^2 > a^2) < \\frac{Var(X)}{a^2}$$\n",
    "\n",
    "\n",
    "using Markov's inequality this is as now the denominator $a^2$ is now constant"
   ]
  },
  {
   "cell_type": "markdown",
   "metadata": {},
   "source": [
    "### Problem 2. (5 points)\n",
    "\n",
    "In showing that factorization in a Markov Network leads to local CIs we used the\n",
    "following fact. Prove it using the definition of conditional independence:\n",
    "\n",
    "$$\n",
    "P \\models (X \\perp Y \\mid Z) \\quad \\Leftrightarrow \\quad P(X=x, Y=y, Z=z) = f(x, z)g(y,z) \n",
    "$$\n"
   ]
  },
  {
   "cell_type": "markdown",
   "metadata": {},
   "source": [
    "### Solution\n",
    "\n",
    "- $\\Rightarrow$) 2 points \n",
    "The left side of this equivalence can be represented by following\n",
    "$$\\frac{\\phi_1(X,Z) \\phi_2(Y,Z)}{C}$$\n",
    "\n",
    "where $C$ is normalizaing constant : $C := \\sum_{x,y,z} \\phi_1(x,z)\\phi_2(y,z)$\n",
    "\n",
    "Let \n",
    "\n",
    "1. $f(x,z) = \\frac{\\phi_1(x,z)}{\\sum_{x,y,z} \\phi_1(x,z)\\phi_2(y,z)}$\n",
    "2. $g(y,z) = \\phi_2(y,z)$\n",
    "\n",
    "- $\\Leftarrow$) 3 points\n",
    "\n",
    "We have due to conditional probability:\n",
    "\n",
    "$$\\mathbb{P}(X = x, Y = y, Z= z) = \\mathbb{P}(X = x , Y = y | Z = z)\\mathbb{P}(Z = z)$$\n",
    "\n",
    "hence then we have the following\n",
    "\n",
    "$$\\mathbb{P}(X = x , Y = y | Z = z)\\mathbb{P}(Z = z) = f(x, z)g(y,z) $$\n",
    "\n",
    "and \n",
    "\n",
    "$$\\mathbb{P}(X = x , Y = y | Z = z) = \\frac{f(x, z)g(y,z)}{\\mathbb{P}(Z = z)} $$\n",
    "\n",
    "If we let $\\phi_1(X=x,Z=z) = \\frac{f(x,z)}{\\mathbb{P}(Z=z)}$ , and $\\phi_2(Y=y, Z=z) = g(y,z)$, then we have\n",
    "\n",
    "$$\\mathbb{P}(X = x , Y = y | Z = z) = \\frac{\\phi_1(X=x,Z=z)\\phi_2(Y=y, Z=z)}{C} = \\frac{\\phi_1(X,Z) \\phi_2(Y,Z)}{C}$$\n",
    "\n",
    "where in our case $C = 1$ which represents our factorization of Markov Network $P \\models (X \\perp Y \\mid Z)$.\n"
   ]
  },
  {
   "cell_type": "markdown",
   "metadata": {},
   "source": [
    "### Problem 3. (10 points)\n",
    "\n",
    "Here, we want to represent the joint probability $P(D,I,G,S,L)$ and answer arbitrary queries such as $P(D,I \\mid G=0, L=1)$ for the running example below that we used extensively in the class.\n",
    "<img src=\"./files/3_4.png\" width=\"400\">\n",
    "For this, we need to define CPTs. We use the ```networkx``` package to represent a DAG and add CPTs as node attributes. the CPT for a node with $K$ parents is a $K+1$ dimensional array, where the first dimension is for the child node and the order of parents follows their order when the method ```DAG.predecessors(node)``` is called. This is the order in which the corresponding edges are added. \n",
    "\n",
    "Your task is to write the body of the function ```Pr()``` that calculates the array of the posterior marginal, given a DAG -- e.g., $P(D, L \\mid G= 2, I = 1)$. \n",
    "For your implementation you can use the ```tensor_mult``` helper function provided in ```utility.py```. \n",
    "\n",
    "You can try implementing this function in three steps:\n",
    "\n",
    "- calculate the joint PMF\n",
    "- condition on the evidence (e.g., by multiplying the joint array with appropriate tensor of 0s and 1s.\n",
    "- marginalize and normalize the final results (normalization might be necessary depending on your implementation of conditioning on the evidence)\n",
    "\n",
    "There are more efficient ways of calculating the posterior marginals that we study in the __inference__ lectures.\n",
    "\n",
    "### Solution"
   ]
  },
  {
   "cell_type": "code",
   "execution_count": 2,
   "metadata": {},
   "outputs": [
    {
     "name": "stdout",
     "output_type": "stream",
     "text": [
      "Is this a DAG? True\n"
     ]
    }
   ],
   "source": [
    "# creating the BayesNet\n",
    "BN = nx.DiGraph()\n",
    "BN.add_node('D', cpt=np.array([.6,.4]))\n",
    "BN.add_node('I', cpt=np.array([.7,.3]))\n",
    "\n",
    "#a 3-dimensional array of shape 3x2x2 representing P(G|I,D).  \n",
    "#note that the order of parents matters, here we have made sure the order is the same as\n",
    "#the order returned by BN.predecessors('G')\n",
    "BN.add_node('G', cpt=np.array([[[.3,.05],[.9,.5]],[[.4,.25],[.08,.3]],[[.3,.7],[.02,.2]]]))\n",
    "BN.add_node('L', cpt=np.array([[.1,.4,.99],[.9,.6,.01]]))\n",
    "BN.add_node('S', cpt=np.array([[.95,.2],[.05,.8]]))\n",
    "\n",
    "# adding edges (note that the order of I,D -> G is important)\n",
    "BN.add_edge('I','G')\n",
    "BN.add_edge('D','G')\n",
    "BN.add_edge('G', 'L')\n",
    "BN.add_edge('I', 'S')\n",
    "\n",
    "print(\"Is this a DAG? {}\".format(nx.is_directed_acyclic_graph(BN)))\n",
    "# we can use topological sort to get a topological ordering of nodes. What is the complexity of this sorting op.?\n"
   ]
  },
  {
   "cell_type": "code",
   "execution_count": 34,
   "metadata": {},
   "outputs": [],
   "source": [
    "def sum_over_index(n, P_matrix):\n",
    "    \n",
    "    out = np.empty(P_matrix.shape[:n] + P_matrix.shape[n+1:])\n",
    "    print(out)\n",
    "    for keys,values in np.ndenumerate(out):\n",
    "        p = 0\n",
    "        for ii in range(0, len(P_matrix[n])):\n",
    "            p += P_matrix[keys[:n] + (ii,) + keys[n:]]\n",
    "        out[keys] = p\n",
    "    \n",
    "    return out\n",
    "        "
   ]
  },
  {
   "cell_type": "code",
   "execution_count": 13,
   "metadata": {},
   "outputs": [
    {
     "data": {
      "text/plain": [
       "array([0.378 , 0.2724])"
      ]
     },
     "execution_count": 13,
     "metadata": {},
     "output_type": "execute_result"
    }
   ],
   "source": [
    "sum_over_index(1,sum_over_index(0,tensor_mult(tensor_mult(BN.node[\"G\"][\"cpt\"], BN.node[\"I\"][\"cpt\"], [1], [0]), \n",
    "                          BN.node[\"D\"][\"cpt\"], [2],[0])))"
   ]
  },
  {
   "cell_type": "code",
   "execution_count": 19,
   "metadata": {},
   "outputs": [],
   "source": [
    "q = tensor_mult(tensor_mult(BN.node[\"G\"][\"cpt\"], BN.node[\"I\"][\"cpt\"], [1], [0]), BN.node[\"D\"][\"cpt\"], [2], [0])"
   ]
  },
  {
   "cell_type": "code",
   "execution_count": 55,
   "metadata": {},
   "outputs": [
    {
     "data": {
      "text/plain": [
       "array([[[0.21 , 0.015],\n",
       "        [0.63 , 0.15 ]],\n",
       "\n",
       "       [[0.28 , 0.075],\n",
       "        [0.056, 0.09 ]],\n",
       "\n",
       "       [[0.21 , 0.21 ],\n",
       "        [0.014, 0.06 ]]])"
      ]
     },
     "execution_count": 55,
     "metadata": {},
     "output_type": "execute_result"
    }
   ],
   "source": [
    "tensor_mult(BN.node[\"G\"][\"cpt\"],BN.node[\"I\"][\"cpt\"],[2],[0])"
   ]
  },
  {
   "cell_type": "code",
   "execution_count": 65,
   "metadata": {},
   "outputs": [
    {
     "data": {
      "text/plain": [
       "array([[[[1.2600e-02, 5.0400e-02, 1.2474e-01],\n",
       "         [1.2600e-02, 8.4000e-03, 1.4000e-04]],\n",
       "\n",
       "        [[1.6200e-02, 6.4800e-02, 1.6038e-01],\n",
       "         [5.4000e-02, 3.6000e-02, 6.0000e-04]]],\n",
       "\n",
       "\n",
       "       [[[1.6800e-02, 6.7200e-02, 1.6632e-01],\n",
       "         [6.3000e-02, 4.2000e-02, 7.0000e-04]],\n",
       "\n",
       "        [[1.4400e-03, 5.7600e-03, 1.4256e-02],\n",
       "         [3.2400e-02, 2.1600e-02, 3.6000e-04]]],\n",
       "\n",
       "\n",
       "       [[[1.2600e-02, 5.0400e-02, 1.2474e-01],\n",
       "         [1.7640e-01, 1.1760e-01, 1.9600e-03]],\n",
       "\n",
       "        [[3.6000e-04, 1.4400e-03, 3.5640e-03],\n",
       "         [2.1600e-02, 1.4400e-02, 2.4000e-04]]]])"
      ]
     },
     "execution_count": 65,
     "metadata": {},
     "output_type": "execute_result"
    }
   ],
   "source": [
    "tensor_multtensor_mult(q, BN.node[\"L\"][\"cpt\"], [2], [0])"
   ]
  },
  {
   "cell_type": "code",
   "execution_count": null,
   "metadata": {},
   "outputs": [],
   "source": []
  },
  {
   "cell_type": "code",
   "execution_count": null,
   "metadata": {},
   "outputs": [],
   "source": []
  },
  {
   "cell_type": "code",
   "execution_count": 4,
   "metadata": {},
   "outputs": [],
   "source": [
    "    P_G_I_D = tensor_mult(tensor_mult(BN.node[\"G\"][\"cpt\"], BN.node[\"I\"][\"cpt\"], [1], [0]), \n",
    "                          BN.node[\"D\"][\"cpt\"], [2],[0])\n",
    "    P_G_I_D_S = tensor_mult(P_G_I_D, BN.node[\"S\"][\"cpt\"], [1],[1])\n",
    "    joint= tensor_mult(P_G_I_D_S, BN.node[\"L\"][\"cpt\"], [0],[1])    "
   ]
  },
  {
   "cell_type": "code",
   "execution_count": 7,
   "metadata": {},
   "outputs": [
    {
     "data": {
      "text/plain": [
       "array([[[[1.18503e-01, 1.19700e-03],\n",
       "         [6.23700e-03, 6.30000e-05]],\n",
       "\n",
       "        [[1.84338e-01, 1.86200e-03],\n",
       "         [9.70200e-03, 9.80000e-05]]],\n",
       "\n",
       "\n",
       "       [[[7.12800e-04, 7.20000e-06],\n",
       "         [2.85120e-03, 2.88000e-05]],\n",
       "\n",
       "        [[4.75200e-03, 4.80000e-05],\n",
       "         [1.90080e-02, 1.92000e-04]]]])"
      ]
     },
     "execution_count": 7,
     "metadata": {},
     "output_type": "execute_result"
    }
   ],
   "source": [
    "joint[2]"
   ]
  },
  {
   "cell_type": "code",
   "execution_count": 118,
   "metadata": {},
   "outputs": [
    {
     "data": {
      "text/plain": [
       "0.0028512000000000003"
      ]
     },
     "execution_count": 118,
     "metadata": {},
     "output_type": "execute_result"
    }
   ],
   "source": [
    "joint[(2,1,0,1,0)]"
   ]
  },
  {
   "cell_type": "code",
   "execution_count": 88,
   "metadata": {
    "scrolled": true
   },
   "outputs": [
    {
     "name": "stdout",
     "output_type": "stream",
     "text": [
      "Is this a DAG? True\n"
     ]
    }
   ],
   "source": [
    "\n",
    "# creating the BayesNet\n",
    "BN = nx.DiGraph()\n",
    "BN.add_node('D', cpt=np.array([.6,.4]))\n",
    "BN.add_node('I', cpt=np.array([.7,.3]))\n",
    "\n",
    "#a 3-dimensional array of shape 3x2x2 representing P(G|I,D).  \n",
    "#note that the order of parents matters, here we have made sure the order is the same as\n",
    "#the order returned by BN.predecessors('G')\n",
    "BN.add_node('G', cpt=np.array([[[.3,.05],[.9,.5]],[[.4,.25],[.08,.3]],[[.3,.7],[.02,.2]]]))\n",
    "BN.add_node('L', cpt=np.array([[.1,.4,.99],[.9,.6,.01]]))\n",
    "BN.add_node('S', cpt=np.array([[.95,.2],[.05,.8]]))\n",
    "\n",
    "# adding edges (note that the order of I,D -> G is important)\n",
    "BN.add_edge('I','G')\n",
    "BN.add_edge('D','G')\n",
    "BN.add_edge('G', 'L')\n",
    "BN.add_edge('I', 'S')\n",
    "\n",
    "print(\"Is this a DAG? {}\".format(nx.is_directed_acyclic_graph(BN)))\n",
    "# we can use topological sort to get a topological ordering of nodes. What is the complexity of this sorting op.?\n",
    "list(nx.topological_sort(BN))\n",
    "\n",
    "\n",
    "def Pr(target, \n",
    "       evidence, # a dictionary of observations to conditin on -- eg, {'L':0, 'I':1}\n",
    "       DAG #DAG containing the CPTs (BN above)\n",
    "      ):\n",
    "\n",
    "    # >>>> YOUR CODE HERE >>>>>>>\n",
    "        #1. calculate joint pmf\n",
    "    ## gives |G| = 3, |I| = 2, |D| = 2 in this order\n",
    "    P_G_I_D = tensor_mult(tensor_mult(BN.node[\"G\"][\"cpt\"], BN.node[\"I\"][\"cpt\"], [1], [0]), \n",
    "                          BN.node[\"D\"][\"cpt\"], [2],[0])\n",
    "    P_G_I_D_S = tensor_mult(P_G_I_D, BN.node[\"S\"][\"cpt\"], [1],[1])\n",
    "    joint= tensor_mult(P_G_I_D_S, BN.node[\"L\"][\"cpt\"], [0],[1])    \n",
    "    \n",
    "    #final joint order (|G|, |I|,|D|, |S|, |L| ) \n",
    "    \n",
    "    A = np.zeros((3,2,2,2,2))\n",
    "    \n",
    "    \n",
    "    marginal = []\n",
    "    \n",
    "\n",
    "    for i in target:\n",
    "        if i == \"G\":\n",
    "            marginal.extend([3])\n",
    "        else:\n",
    "            marginal.extend([2])\n",
    "            \n",
    "    marginal = np.zeros(marginal)\n",
    "    \n",
    "    \n",
    "    evidence_sum_keys = BN.nodes() - evidence.keys()\n",
    "    evidence_prob = 0\n",
    "    index = {\"G\" : 0 , \"I\" : 0 , \"L\" : 0, \"D\" : 0, \"S\" : 0}\n",
    "\n",
    "    for i in evidence.keys():\n",
    "        index[i] = evidence[i]\n",
    "\n",
    "    \n",
    "    for i in evidence_sum_keys:\n",
    "        if i == \"G\":\n",
    "            for j in range(0,2):\n",
    "                A[index[\"G\"]][index[\"I\"]][index[\"L\"]][index[\"D\"]][index[\"S\"]] += 1\n",
    "                index[i] += 1 \n",
    "                evidence_prob += np.dot(A, joint).sum()\n",
    "        else:\n",
    "            for j in range(0,1):\n",
    "                A[index[\"G\"]][index[\"I\"]][index[\"L\"]][index[\"D\"]][index[\"S\"]] += 1\n",
    "                index[i] += 1\n",
    "                evidence_prob += np.dot(A, joint).sum()\n",
    "\n",
    "    sum(A)\n",
    "    index = {\"G\" : 0 , \"I\" : 0 , \"L\" : 0, \"D\" : 0, \"S\" : 0}\n",
    "    \n",
    "    letter_index = {\"G\" : 0 , \"I\" : 1, \"L\" : 2, \"D\" : 3, \"S\" : 4}\n",
    "    for i in evidence.keys():\n",
    "        index[i] = evidence[i]\n",
    "        \n",
    "    numerator_index = BN.nodes() - evidence.keys() - set(target)\n",
    "    \n",
    "    A = np.zeros((3,2,2,2,2))\n",
    "\n",
    "    q = 0\n",
    "    \n",
    "    A_index = [0,0,0,0,0]\n",
    "\n",
    "    for keys,values in np.ndenumerate(marginal):\n",
    "        for i in numerator_index:\n",
    "            if i == \"G\":\n",
    "                for j in range(0,2):\n",
    "                    for e in evidence:\n",
    "                        A_index[letter_index[e]] = evidence[e]\n",
    "                    A_index[letter_index[i]] = j\n",
    "                    A[tuple(A_index)] += 1\n",
    "                    q +=  np.dot(A, joint).sum()\n",
    "            else:\n",
    "                for j in range(0,1):\n",
    "                    for e in evidence:\n",
    "                        A_index[letter_index[e]] = evidence[e]\n",
    "                    A_index[letter_index[i]] = j\n",
    "                    A[tuple(A_index)] += 1\n",
    "                    q +=  np.dot(A, joint).sum()           \n",
    "            A_index = [0,0,0,0,0]\n",
    "                    \n",
    "                    \n",
    "        for i in numerator_index:\n",
    "            index[i] = 0 \n",
    "        \n",
    "        \n",
    "        marginal[keys] = q\n",
    "        A = np.zeros((3,2,2,2,2))\n",
    "        \n",
    "\n",
    "        \n",
    "    \n",
    "                    \n",
    "    # >>>> YOUR CODE HERE >>>>>>>\n",
    "    \n",
    "    marginal /= marginal.sum()\n",
    "    \n",
    "    return marginal\n"
   ]
  },
  {
   "cell_type": "code",
   "execution_count": null,
   "metadata": {},
   "outputs": [],
   "source": []
  },
  {
   "cell_type": "code",
   "execution_count": 29,
   "metadata": {},
   "outputs": [
    {
     "data": {
      "text/plain": [
       "(3, 2, 2, 2, 2)"
      ]
     },
     "execution_count": 29,
     "metadata": {},
     "output_type": "execute_result"
    }
   ],
   "source": [
    "joint.shape"
   ]
  },
  {
   "cell_type": "markdown",
   "metadata": {},
   "source": [
    "### Problem 4. (10 points)\n",
    "\n",
    "Your task in this assignment is to implement __D-separation__ algorithm for a DAG representation, similar to what we used in the previous problem. Note that (assuming non-deterministic factors) D-separation does not need access to the CPTs. The following function returns ```True``` if the given CI holds and ```False``` otherwise."
   ]
  },
  {
   "cell_type": "code",
   "execution_count": 11,
   "metadata": {},
   "outputs": [
    {
     "ename": "SyntaxError",
     "evalue": "unexpected EOF while parsing (<ipython-input-11-ae9d1d9cccea>, line 8)",
     "output_type": "error",
     "traceback": [
      "\u001b[0;36m  File \u001b[0;32m\"<ipython-input-11-ae9d1d9cccea>\"\u001b[0;36m, line \u001b[0;32m8\u001b[0m\n\u001b[0;31m    # >>>> YOUR CODE HERE >>>>>>>\u001b[0m\n\u001b[0m                                 ^\u001b[0m\n\u001b[0;31mSyntaxError\u001b[0m\u001b[0;31m:\u001b[0m unexpected EOF while parsing\n"
     ]
    }
   ],
   "source": [
    "def is_cond_independent(X, #non-empty list of nodes -- e.g., ['I', 'D'] \n",
    "                        Y, #non-empty list of nodes. It has no intersection with X -- e.g., ['S']\n",
    "                        Z, #list of nodes -- e.g., []\n",
    "                        DAG #networkx DAG -- e.g., BN defined above\n",
    "                       ):\n",
    "    # >>>> YOUR CODE HERE >>>>>>>\n",
    "    \n",
    "    # >>>> YOUR CODE HERE >>>>>>>"
   ]
  },
  {
   "cell_type": "markdown",
   "metadata": {},
   "source": [
    "Let us verify that the CIs that we get from D-separation, match the definition of conditional independence using the conditional probabilities that we can numerically calculate using your solution to the problem 3. \n",
    "In the following we look at all queries in the form of $P \\overset{?}{\\models} {D} \\perp {S} \\mid \\mathbf{Z} = \\mathbf{0}$, where $\\mathbf{Z} \\subseteq \\{I,G,L\\}$ may contain any of the remaining variables. "
   ]
  },
  {
   "cell_type": "code",
   "execution_count": 12,
   "metadata": {},
   "outputs": [
    {
     "ename": "NameError",
     "evalue": "name 'is_cond_independent' is not defined",
     "output_type": "error",
     "traceback": [
      "\u001b[0;31m---------------------------------------------------------------------------\u001b[0m",
      "\u001b[0;31mNameError\u001b[0m                                 Traceback (most recent call last)",
      "\u001b[0;32m<ipython-input-12-6371c9326474>\u001b[0m in \u001b[0;36m<module>\u001b[0;34m\u001b[0m\n\u001b[1;32m      2\u001b[0m \u001b[0;32mfor\u001b[0m \u001b[0mZ\u001b[0m \u001b[0;32min\u001b[0m \u001b[0;34m[\u001b[0m\u001b[0;34m{\u001b[0m\u001b[0;34m}\u001b[0m\u001b[0;34m,\u001b[0m\u001b[0;34m{\u001b[0m\u001b[0;34m'I'\u001b[0m\u001b[0;34m:\u001b[0m\u001b[0;36m0\u001b[0m\u001b[0;34m}\u001b[0m\u001b[0;34m,\u001b[0m \u001b[0;34m{\u001b[0m\u001b[0;34m'G'\u001b[0m\u001b[0;34m:\u001b[0m\u001b[0;36m0\u001b[0m\u001b[0;34m}\u001b[0m\u001b[0;34m,\u001b[0m \u001b[0;34m{\u001b[0m\u001b[0;34m'L'\u001b[0m\u001b[0;34m:\u001b[0m\u001b[0;36m0\u001b[0m\u001b[0;34m}\u001b[0m\u001b[0;34m,\u001b[0m \u001b[0;34m{\u001b[0m\u001b[0;34m'I'\u001b[0m\u001b[0;34m:\u001b[0m\u001b[0;36m0\u001b[0m\u001b[0;34m,\u001b[0m\u001b[0;34m'G'\u001b[0m\u001b[0;34m:\u001b[0m\u001b[0;36m0\u001b[0m\u001b[0;34m}\u001b[0m\u001b[0;34m,\u001b[0m \u001b[0;34m{\u001b[0m\u001b[0;34m'I'\u001b[0m\u001b[0;34m:\u001b[0m\u001b[0;36m0\u001b[0m\u001b[0;34m,\u001b[0m\u001b[0;34m'L'\u001b[0m\u001b[0;34m:\u001b[0m\u001b[0;36m0\u001b[0m\u001b[0;34m}\u001b[0m\u001b[0;34m,\u001b[0m \u001b[0;34m{\u001b[0m\u001b[0;34m'L'\u001b[0m\u001b[0;34m:\u001b[0m\u001b[0;36m0\u001b[0m\u001b[0;34m,\u001b[0m\u001b[0;34m'G'\u001b[0m\u001b[0;34m:\u001b[0m\u001b[0;36m0\u001b[0m\u001b[0;34m}\u001b[0m\u001b[0;34m,\u001b[0m \u001b[0;34m{\u001b[0m\u001b[0;34m'I'\u001b[0m\u001b[0;34m:\u001b[0m\u001b[0;36m0\u001b[0m\u001b[0;34m,\u001b[0m\u001b[0;34m'G'\u001b[0m\u001b[0;34m:\u001b[0m\u001b[0;36m0\u001b[0m\u001b[0;34m,\u001b[0m\u001b[0;34m'L'\u001b[0m\u001b[0;34m:\u001b[0m\u001b[0;36m0\u001b[0m\u001b[0;34m}\u001b[0m\u001b[0;34m]\u001b[0m\u001b[0;34m:\u001b[0m\u001b[0;34m\u001b[0m\u001b[0;34m\u001b[0m\u001b[0m\n\u001b[1;32m      3\u001b[0m     \u001b[0;31m#conditional independence from D-separation\u001b[0m\u001b[0;34m\u001b[0m\u001b[0;34m\u001b[0m\u001b[0;34m\u001b[0m\u001b[0m\n\u001b[0;32m----> 4\u001b[0;31m     \u001b[0mCI_alg\u001b[0m \u001b[0;34m=\u001b[0m \u001b[0mis_cond_independent\u001b[0m\u001b[0;34m(\u001b[0m\u001b[0;34m[\u001b[0m\u001b[0;34m'D'\u001b[0m\u001b[0;34m]\u001b[0m\u001b[0;34m,\u001b[0m \u001b[0;34m[\u001b[0m\u001b[0;34m'S'\u001b[0m\u001b[0;34m]\u001b[0m\u001b[0;34m,\u001b[0m \u001b[0mZ\u001b[0m\u001b[0;34m.\u001b[0m\u001b[0mkeys\u001b[0m\u001b[0;34m(\u001b[0m\u001b[0;34m)\u001b[0m\u001b[0;34m,\u001b[0m \u001b[0mBN\u001b[0m\u001b[0;34m)\u001b[0m\u001b[0;34m\u001b[0m\u001b[0;34m\u001b[0m\u001b[0m\n\u001b[0m\u001b[1;32m      5\u001b[0m     \u001b[0;31m#conditional independence according to conditional probabilities\u001b[0m\u001b[0;34m\u001b[0m\u001b[0;34m\u001b[0m\u001b[0;34m\u001b[0m\u001b[0m\n\u001b[1;32m      6\u001b[0m     \u001b[0mCI_num\u001b[0m \u001b[0;34m=\u001b[0m \u001b[0mnp\u001b[0m\u001b[0;34m.\u001b[0m\u001b[0mmax\u001b[0m\u001b[0;34m(\u001b[0m\u001b[0mnp\u001b[0m\u001b[0;34m.\u001b[0m\u001b[0mabs\u001b[0m\u001b[0;34m(\u001b[0m\u001b[0mPr\u001b[0m\u001b[0;34m(\u001b[0m\u001b[0;34m[\u001b[0m\u001b[0;34m'D'\u001b[0m\u001b[0;34m,\u001b[0m\u001b[0;34m'S'\u001b[0m\u001b[0;34m]\u001b[0m\u001b[0;34m,\u001b[0m \u001b[0mZ\u001b[0m\u001b[0;34m,\u001b[0m \u001b[0mBN\u001b[0m\u001b[0;34m)\u001b[0m \u001b[0;34m-\u001b[0m \u001b[0mnp\u001b[0m\u001b[0;34m.\u001b[0m\u001b[0mouter\u001b[0m\u001b[0;34m(\u001b[0m\u001b[0mPr\u001b[0m\u001b[0;34m(\u001b[0m\u001b[0;34m[\u001b[0m\u001b[0;34m'D'\u001b[0m\u001b[0;34m]\u001b[0m\u001b[0;34m,\u001b[0m \u001b[0mZ\u001b[0m\u001b[0;34m,\u001b[0m \u001b[0mBN\u001b[0m\u001b[0;34m)\u001b[0m\u001b[0;34m,\u001b[0m\u001b[0mPr\u001b[0m\u001b[0;34m(\u001b[0m\u001b[0;34m[\u001b[0m\u001b[0;34m'S'\u001b[0m\u001b[0;34m]\u001b[0m\u001b[0;34m,\u001b[0m \u001b[0mZ\u001b[0m\u001b[0;34m,\u001b[0m \u001b[0mBN\u001b[0m\u001b[0;34m)\u001b[0m\u001b[0;34m)\u001b[0m\u001b[0;34m)\u001b[0m\u001b[0;34m)\u001b[0m \u001b[0;34m<\u001b[0m \u001b[0;36m1e-10\u001b[0m\u001b[0;34m\u001b[0m\u001b[0;34m\u001b[0m\u001b[0m\n",
      "\u001b[0;31mNameError\u001b[0m: name 'is_cond_independent' is not defined"
     ]
    }
   ],
   "source": [
    "domains = {'I':[0,1], 'L':[0,1], 'G':[0,1,2]}\n",
    "for Z in [{},{'I':0}, {'G':0}, {'L':0}, {'I':0,'G':0}, {'I':0,'L':0}, {'L':0,'G':0}, {'I':0,'G':0,'L':0}]:\n",
    "    #conditional independence from D-separation\n",
    "    CI_alg = is_cond_independent(['D'], ['S'], Z.keys(), BN)\n",
    "    #conditional independence according to conditional probabilities\n",
    "    CI_num = np.max(np.abs(Pr(['D','S'], Z, BN) - np.outer(Pr(['D'], Z, BN),Pr(['S'], Z, BN)))) < 1e-10\n",
    "    #they should match\n",
    "    assert(CI_num == CI_alg)\n",
    "print(\"passed the minimal test\")"
   ]
  },
  {
   "cell_type": "code",
   "execution_count": 13,
   "metadata": {},
   "outputs": [
    {
     "name": "stdout",
     "output_type": "stream",
     "text": [
      "1.0\n"
     ]
    },
    {
     "data": {
      "text/plain": [
       "array([[0.1, 0.2],\n",
       "       [0.3, 0.4]])"
      ]
     },
     "execution_count": 13,
     "metadata": {},
     "output_type": "execute_result"
    }
   ],
   "source": [
    "Pr(['D', 'S'], {\"I\" : 0}, BN)"
   ]
  },
  {
   "cell_type": "code",
   "execution_count": null,
   "metadata": {},
   "outputs": [],
   "source": []
  },
  {
   "cell_type": "code",
   "execution_count": 14,
   "metadata": {},
   "outputs": [
    {
     "name": "stdout",
     "output_type": "stream",
     "text": [
      "1.0\n",
      "1.0\n",
      "1.0\n"
     ]
    }
   ],
   "source": [
    "CI_num = np.max(np.abs(Pr(['D','S'], Z, BN) - np.outer(Pr(['D'], Z, BN),Pr(['S'], Z, BN)))) < 1e-10"
   ]
  },
  {
   "cell_type": "code",
   "execution_count": 15,
   "metadata": {},
   "outputs": [
    {
     "data": {
      "text/plain": [
       "False"
      ]
     },
     "execution_count": 15,
     "metadata": {},
     "output_type": "execute_result"
    }
   ],
   "source": [
    "CI_num"
   ]
  },
  {
   "cell_type": "code",
   "execution_count": 16,
   "metadata": {},
   "outputs": [
    {
     "name": "stdout",
     "output_type": "stream",
     "text": [
      "1.0\n"
     ]
    },
    {
     "data": {
      "text/plain": [
       "array([[0.1, 0.2],\n",
       "       [0.3, 0.4]])"
      ]
     },
     "execution_count": 16,
     "metadata": {},
     "output_type": "execute_result"
    }
   ],
   "source": [
    "np.abs(Pr(['D','S'], Z, BN))"
   ]
  },
  {
   "cell_type": "code",
   "execution_count": 17,
   "metadata": {},
   "outputs": [
    {
     "name": "stdout",
     "output_type": "stream",
     "text": [
      "1.0\n",
      "1.0\n"
     ]
    },
    {
     "data": {
      "text/plain": [
       "array([[0.11111111, 0.22222222],\n",
       "       [0.22222222, 0.44444444]])"
      ]
     },
     "execution_count": 17,
     "metadata": {},
     "output_type": "execute_result"
    }
   ],
   "source": [
    "np.outer(Pr(['D'], Z, BN),Pr(['S'], Z, BN))"
   ]
  },
  {
   "cell_type": "code",
   "execution_count": null,
   "metadata": {},
   "outputs": [],
   "source": []
  },
  {
   "cell_type": "code",
   "execution_count": null,
   "metadata": {},
   "outputs": [],
   "source": []
  },
  {
   "cell_type": "code",
   "execution_count": null,
   "metadata": {},
   "outputs": [],
   "source": []
  },
  {
   "cell_type": "code",
   "execution_count": null,
   "metadata": {},
   "outputs": [],
   "source": []
  }
 ],
 "metadata": {
  "kernelspec": {
   "display_name": "Python 3",
   "language": "python",
   "name": "python3"
  },
  "language_info": {
   "codemirror_mode": {
    "name": "ipython",
    "version": 3
   },
   "file_extension": ".py",
   "mimetype": "text/x-python",
   "name": "python",
   "nbconvert_exporter": "python",
   "pygments_lexer": "ipython3",
   "version": "3.7.3"
  }
 },
 "nbformat": 4,
 "nbformat_minor": 2
}
