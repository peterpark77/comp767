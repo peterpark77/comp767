{
 "cells": [
  {
   "cell_type": "markdown",
   "metadata": {},
   "source": [
    "# ASSIGNMENT 1                                                McGill:COMP767 - FALL 2019 \n",
    "Student name (ID)"
   ]
  },
  {
   "cell_type": "code",
   "execution_count": 55,
   "metadata": {},
   "outputs": [],
   "source": [
    "import numpy as np\n",
    "import networkx as nx\n",
    "from utils import tensor_mult"
   ]
  },
  {
   "cell_type": "markdown",
   "metadata": {},
   "source": [
    "### Problem 1. (5 points)\n",
    "\n",
    "- __a__: 2 points) Derive the __Markov__ inequality below for a positive discrete random variable\n",
    "(_Hint:_ rearrange to prove $a P(x \\geq a) \\leq \\mathbb{E}[X]$ and substitute the definition of expectation.)\n",
    "$$P(x > a) \\leq \\frac{\\mathbb{E}[X]}{a}$$\n",
    "- __b__: 3 points) Using this inequality prove the following, known as __Chebyshev__ inequality:\n",
    "$$P(|X - \\mathbb{E}[X]| > a) < \\frac{Var(X)}{a^2}$$"
   ]
  },
  {
   "cell_type": "markdown",
   "metadata": {},
   "source": [
    "### Solution\n",
    "__a__) \n",
    "\n",
    "From definition of expected value we have:\n",
    "\n",
    "$$\\mathbb{E}(X) = \\int_{-\\infty}^\\infty x f(x) dx$$\n",
    "and if $X$ is non-negative random variable, we have:\n",
    "\n",
    "$$\\int_{-\\infty}^\\infty x f(x) dx = \\int_0^\\infty xf(x)dx$$\n",
    "\n",
    "Hence from the derivation we have\n",
    "\n",
    "$$\\mathbb{E}(X) = \\int_{0}^a x f(x) dx + \\int_a^\\infty xf(x)dx \\geq \\int_a^\\infty xf(x)dx \\geq a\\int_a^\\infty f(x)dx = a \\mathbb{P}(X \\geq a)$$\n",
    "\n",
    "and given this we have\n",
    "\n",
    "$$\\mathbb{P}(x > a) \\leq \\frac{\\mathbb{E}[X]}{a}$$\n",
    "\n",
    "\n",
    "__b__) \n",
    "\n",
    "By the definition of variance we have :\n",
    "$$\\text{Var}(X) = \\mathbb{E}[(X - \\mathbb{E}(X))^2]$$\n",
    "\n",
    "Hence we can write the given equation as following as the expected value in the numerator represents the expected value\n",
    "\n",
    "$$\\mathbb{P}((X - \\mathbb{E}[X])^2 > a^2) < \\frac{Var(X)}{a^2}$$\n",
    "\n",
    "\n",
    "using Markov's inequality this is as now the denominator $a^2$ is now constant"
   ]
  },
  {
   "cell_type": "markdown",
   "metadata": {},
   "source": [
    "### Problem 2. (5 points)\n",
    "\n",
    "In showing that factorization in a Markov Network leads to local CIs we used the\n",
    "following fact. Prove it using the definition of conditional independence:\n",
    "\n",
    "$$\n",
    "P \\models (X \\perp Y \\mid Z) \\quad \\Leftrightarrow \\quad P(X=x, Y=y, Z=z) = f(x, z)g(y,z) \n",
    "$$\n"
   ]
  },
  {
   "cell_type": "markdown",
   "metadata": {},
   "source": [
    "### Solution\n",
    "\n",
    "- $\\Rightarrow$) 2 points \n",
    "The left side of this equivalence can be represented by following\n",
    "$$\\frac{\\phi_1(X,Z) \\phi_2(Y,Z)}{C}$$\n",
    "\n",
    "where $C$ is normalizaing constant : $C := \\sum_{x,y,z} \\phi_1(x,z)\\phi_2(y,z)$\n",
    "\n",
    "Let \n",
    "\n",
    "1. $f(x,z) = \\frac{\\phi_1(x,z)}{\\sum_{x,y,z} \\phi_1(x,z)\\phi_2(y,z)}$\n",
    "2. $g(y,z) = \\phi_2(y,z)$\n",
    "\n",
    "- $\\Leftarrow$) 3 points\n",
    "\n",
    "We have due to conditional probability:\n",
    "\n",
    "$$\\mathbb{P}(X = x, Y = y, Z= z) = \\mathbb{P}(X = x , Y = y | Z = z)\\mathbb{P}(Z = z)$$\n",
    "\n",
    "hence then we have the following\n",
    "\n",
    "$$\\mathbb{P}(X = x , Y = y | Z = z)\\mathbb{P}(Z = z) = f(x, z)g(y,z) $$\n",
    "\n",
    "and \n",
    "\n",
    "$$\\mathbb{P}(X = x , Y = y | Z = z) = \\frac{f(x, z)g(y,z)}{\\mathbb{P}(Z = z)} $$\n",
    "\n",
    "If we let $\\phi_1(X=x,Z=z) = \\frac{f(x,z)}{\\mathbb{P}(Z=z)}$ , and $\\phi_2(Y=y, Z=z) = g(y,z)$, then we have\n",
    "\n",
    "$$\\mathbb{P}(X = x , Y = y | Z = z) = \\frac{\\phi_1(X=x,Z=z)\\phi_2(Y=y, Z=z)}{C} = \\frac{\\phi_1(X,Z) \\phi_2(Y,Z)}{C}$$\n",
    "\n",
    "where in our case $C = 1$ which represents our factorization of Markov Network $P \\models (X \\perp Y \\mid Z)$.\n"
   ]
  },
  {
   "cell_type": "markdown",
   "metadata": {},
   "source": [
    "### Problem 3. (10 points)\n",
    "\n",
    "Here, we want to represent the joint probability $P(D,I,G,S,L)$ and answer arbitrary queries such as $P(D,I \\mid G=0, L=1)$ for the running example below that we used extensively in the class.\n",
    "<img src=\"./files/3_4.png\" width=\"400\">\n",
    "For this, we need to define CPTs. We use the ```networkx``` package to represent a DAG and add CPTs as node attributes. the CPT for a node with $K$ parents is a $K+1$ dimensional array, where the first dimension is for the child node and the order of parents follows their order when the method ```DAG.predecessors(node)``` is called. This is the order in which the corresponding edges are added. \n",
    "\n",
    "Your task is to write the body of the function ```Pr()``` that calculates the array of the posterior marginal, given a DAG -- e.g., $P(D, L \\mid G= 2, I = 1)$. \n",
    "For your implementation you can use the ```tensor_mult``` helper function provided in ```utility.py```. \n",
    "\n",
    "You can try implementing this function in three steps:\n",
    "\n",
    "- calculate the joint PMF\n",
    "- condition on the evidence (e.g., by multiplying the joint array with appropriate tensor of 0s and 1s.\n",
    "- marginalize and normalize the final results (normalization might be necessary depending on your implementation of conditioning on the evidence)\n",
    "\n",
    "There are more efficient ways of calculating the posterior marginals that we study in the __inference__ lectures.\n",
    "\n",
    "### Solution"
   ]
  },
  {
   "cell_type": "code",
   "execution_count": 9,
   "metadata": {},
   "outputs": [
    {
     "data": {
      "text/plain": [
       "[[], ['L'], [], ['G', 'S'], ['G']]"
      ]
     },
     "execution_count": 9,
     "metadata": {},
     "output_type": "execute_result"
    }
   ],
   "source": [
    "BN.adjacency_list()"
   ]
  },
  {
   "cell_type": "code",
   "execution_count": 202,
   "metadata": {},
   "outputs": [
    {
     "data": {
      "text/plain": [
       "array([[ 0.3 ,  0.05],\n",
       "       [ 0.9 ,  0.5 ]])"
      ]
     },
     "execution_count": 202,
     "metadata": {},
     "output_type": "execute_result"
    }
   ],
   "source": [
    "BN.node[\"G\"][\"cpt\"][0]"
   ]
  },
  {
   "cell_type": "code",
   "execution_count": 177,
   "metadata": {},
   "outputs": [
    {
     "data": {
      "text/plain": [
       "(2, 3)"
      ]
     },
     "execution_count": 177,
     "metadata": {},
     "output_type": "execute_result"
    }
   ],
   "source": [
    "BN.node[\"L\"][\"cpt\"].shape"
   ]
  },
  {
   "cell_type": "code",
   "execution_count": 198,
   "metadata": {},
   "outputs": [
    {
     "data": {
      "text/plain": [
       "array([[ 0.3 ,  0.05],\n",
       "       [ 0.9 ,  0.5 ]])"
      ]
     },
     "execution_count": 198,
     "metadata": {},
     "output_type": "execute_result"
    }
   ],
   "source": [
    "BN.node[\"G\"][\"cpt\"][0]"
   ]
  },
  {
   "cell_type": "code",
   "execution_count": 216,
   "metadata": {},
   "outputs": [
    {
     "data": {
      "text/plain": [
       "array([ 0.7,  0.3])"
      ]
     },
     "execution_count": 216,
     "metadata": {},
     "output_type": "execute_result"
    }
   ],
   "source": [
    "BN.node[\"I\"][\"cpt\"]"
   ]
  },
  {
   "cell_type": "code",
   "execution_count": 203,
   "metadata": {},
   "outputs": [],
   "source": []
  },
  {
   "cell_type": "code",
   "execution_count": 214,
   "metadata": {},
   "outputs": [],
   "source": [
    "P_G_I_D_L = tensor_mult(BN.node[\"G\"][\"cpt\"], BN.node[\"L\"][\"cpt\"], [0],[1])"
   ]
  },
  {
   "cell_type": "code",
   "execution_count": 233,
   "metadata": {},
   "outputs": [
    {
     "data": {
      "text/plain": [
       "array([ 0.3 ,  0.05])"
      ]
     },
     "execution_count": 233,
     "metadata": {},
     "output_type": "execute_result"
    }
   ],
   "source": [
    "BN.node[\"G\"][\"cpt\"][0][0]"
   ]
  },
  {
   "cell_type": "code",
   "execution_count": 223,
   "metadata": {},
   "outputs": [],
   "source": [
    "P_G_L = tensor_mult(BN.node[\"G\"][\"cpt\"], BN.node[\"L\"][\"cpt\"], [0],[1])\n",
    "P_G_L_I = tensor_mult(P_G_L, BN.node[\"I\"][\"cpt\"], [1],[0])\n",
    "P_G_L_I_D = tensor_mult(P_G_L_I, BN.node[\"D\"][\"cpt\"], [1],[0])\n",
    "P_G_L_I_D_S = tensor_mult(P_G_L_I_D, BN.node[\"S\"][\"cpt\"], [1],[1])"
   ]
  },
  {
   "cell_type": "code",
   "execution_count": 243,
   "metadata": {},
   "outputs": [
    {
     "data": {
      "text/plain": [
       "(3, 2, 2, 2, 2)"
      ]
     },
     "execution_count": 243,
     "metadata": {},
     "output_type": "execute_result"
    }
   ],
   "source": [
    "joint.shape"
   ]
  },
  {
   "cell_type": "code",
   "execution_count": 244,
   "metadata": {
    "scrolled": true
   },
   "outputs": [
    {
     "data": {
      "text/plain": [
       "1.0799999999999998"
      ]
     },
     "execution_count": 244,
     "metadata": {},
     "output_type": "execute_result"
    }
   ],
   "source": [
    "joint.sum()"
   ]
  },
  {
   "cell_type": "code",
   "execution_count": 241,
   "metadata": {},
   "outputs": [
    {
     "name": "stdout",
     "output_type": "stream",
     "text": [
      "Is this a DAG? True\n"
     ]
    }
   ],
   "source": [
    "# creating the BayesNet\n",
    "BN = nx.DiGraph()\n",
    "BN.add_node('D', cpt=np.array([.6,.4]))\n",
    "BN.add_node('I', cpt=np.array([.7,.3]))\n",
    "\n",
    "#a 3-dimensional array of shape 3x2x2 representing P(G|I,D).  \n",
    "#note that the order of parents matters, here we have made sure the order is the same as\n",
    "#the order returned by BN.predecessors('G')\n",
    "BN.add_node('G', cpt=np.array([[[.3,.05],[.9,.5]],[[.4,.25],[.08,.3]],[[.3,.7],[.02,.2]]]))\n",
    "BN.add_node('L', cpt=np.array([[.1,.4,.99],[.9,.6,.01]]))\n",
    "BN.add_node('S', cpt=np.array([[.95,.2],[.05,.8]]))\n",
    "\n",
    "# adding edges (note that the order of I,D -> G is important)\n",
    "BN.add_edge('I','G')\n",
    "BN.add_edge('D','G')\n",
    "BN.add_edge('G', 'L')\n",
    "BN.add_edge('I', 'S')\n",
    "\n",
    "print(\"Is this a DAG? {}\".format(nx.is_directed_acyclic_graph(BN)))\n",
    "# we can use topological sort to get a topological ordering of nodes. What is the complexity of this sorting op.?\n",
    "list(nx.topological_sort(BN))\n",
    "\n",
    "\n",
    "def Pr(target, \n",
    "       evidence, # a dictionary of observations to conditin on -- eg, {'L':0, 'I':1}\n",
    "       DAG #DAG containing the CPTs (BN above)\n",
    "      ):\n",
    "\n",
    "    # >>>> YOUR CODE HERE >>>>>>>\n",
    "    \n",
    "    #1. calculate joint pmf\n",
    "    ## gives |G| = 3, |I| = 2, |D| = 2 in this order\n",
    "    P_G_L = tensor_mult(BN.node[\"G\"][\"cpt\"], BN.node[\"L\"][\"cpt\"], [0],[1])\n",
    "    P_G_L_I = tensor_mult(P_G_L, BN.node[\"I\"][\"cpt\"], [1],[0])\n",
    "    P_G_L_I_D = tensor_mult(P_G_L_I, BN.node[\"D\"][\"cpt\"], [1],[0])\n",
    "    joint= tensor_mult(P_G_L_I_D, BN.node[\"S\"][\"cpt\"], [1],[1])    \n",
    "\n",
    "    \n",
    "    \n",
    "    \n",
    "    \n",
    "    iterator = {\"G\" : 0 , \"I\" : 1, \"L\" : 2, \"D\" : 3, \"S\" : 4}\n",
    "    #final joint order (|G|, |I|,|L|, |D|, |S| ) \n",
    "    \n",
    "    A = np.empty((3,2,2,2,2))\n",
    "    \n",
    "    \n",
    "    \n",
    "    \n",
    "    denominator \n",
    "        \n",
    "        \n",
    "    \n",
    "    # >>>> YOUR CODE HERE >>>>>>>\n",
    "    \n",
    "    marginal /= marginal.sum()\n",
    "    \n",
    "    return marginal\n",
    "\n"
   ]
  },
  {
   "cell_type": "markdown",
   "metadata": {},
   "source": [
    "### Problem 4. (10 points)\n",
    "\n",
    "Your task in this assignment is to implement __D-separation__ algorithm for a DAG representation, similar to what we used in the previous problem. Note that (assuming non-deterministic factors) D-separation does not need access to the CPTs. The following function returns ```True``` if the given CI holds and ```False``` otherwise."
   ]
  },
  {
   "cell_type": "code",
   "execution_count": 3,
   "metadata": {},
   "outputs": [
    {
     "ename": "SyntaxError",
     "evalue": "unexpected EOF while parsing (<ipython-input-3-ae9d1d9cccea>, line 8)",
     "output_type": "error",
     "traceback": [
      "\u001b[0;36m  File \u001b[0;32m\"<ipython-input-3-ae9d1d9cccea>\"\u001b[0;36m, line \u001b[0;32m8\u001b[0m\n\u001b[0;31m    # >>>> YOUR CODE HERE >>>>>>>\u001b[0m\n\u001b[0m                                 ^\u001b[0m\n\u001b[0;31mSyntaxError\u001b[0m\u001b[0;31m:\u001b[0m unexpected EOF while parsing\n"
     ]
    }
   ],
   "source": [
    "def is_cond_independent(X, #non-empty list of nodes -- e.g., ['I', 'D'] \n",
    "                        Y, #non-empty list of nodes. It has no intersection with X -- e.g., ['S']\n",
    "                        Z, #list of nodes -- e.g., []\n",
    "                        DAG #networkx DAG -- e.g., BN defined above\n",
    "                       ):\n",
    "    # >>>> YOUR CODE HERE >>>>>>>\n",
    "    \n",
    "    # >>>> YOUR CODE HERE >>>>>>>"
   ]
  },
  {
   "cell_type": "markdown",
   "metadata": {},
   "source": [
    "Let us verify that the CIs that we get from D-separation, match the definition of conditional independence using the conditional probabilities that we can numerically calculate using your solution to the problem 3. \n",
    "In the following we look at all queries in the form of $P \\overset{?}{\\models} {D} \\perp {S} \\mid \\mathbf{Z} = \\mathbf{0}$, where $\\mathbf{Z} \\subseteq \\{I,G,L\\}$ may contain any of the remaining variables. "
   ]
  },
  {
   "cell_type": "code",
   "execution_count": 4,
   "metadata": {},
   "outputs": [
    {
     "ename": "NameError",
     "evalue": "name 'is_cond_independent' is not defined",
     "output_type": "error",
     "traceback": [
      "\u001b[0;31m---------------------------------------------------------------------------\u001b[0m",
      "\u001b[0;31mNameError\u001b[0m                                 Traceback (most recent call last)",
      "\u001b[0;32m<ipython-input-4-6371c9326474>\u001b[0m in \u001b[0;36m<module>\u001b[0;34m()\u001b[0m\n\u001b[1;32m      2\u001b[0m \u001b[0;32mfor\u001b[0m \u001b[0mZ\u001b[0m \u001b[0;32min\u001b[0m \u001b[0;34m[\u001b[0m\u001b[0;34m{\u001b[0m\u001b[0;34m}\u001b[0m\u001b[0;34m,\u001b[0m\u001b[0;34m{\u001b[0m\u001b[0;34m'I'\u001b[0m\u001b[0;34m:\u001b[0m\u001b[0;36m0\u001b[0m\u001b[0;34m}\u001b[0m\u001b[0;34m,\u001b[0m \u001b[0;34m{\u001b[0m\u001b[0;34m'G'\u001b[0m\u001b[0;34m:\u001b[0m\u001b[0;36m0\u001b[0m\u001b[0;34m}\u001b[0m\u001b[0;34m,\u001b[0m \u001b[0;34m{\u001b[0m\u001b[0;34m'L'\u001b[0m\u001b[0;34m:\u001b[0m\u001b[0;36m0\u001b[0m\u001b[0;34m}\u001b[0m\u001b[0;34m,\u001b[0m \u001b[0;34m{\u001b[0m\u001b[0;34m'I'\u001b[0m\u001b[0;34m:\u001b[0m\u001b[0;36m0\u001b[0m\u001b[0;34m,\u001b[0m\u001b[0;34m'G'\u001b[0m\u001b[0;34m:\u001b[0m\u001b[0;36m0\u001b[0m\u001b[0;34m}\u001b[0m\u001b[0;34m,\u001b[0m \u001b[0;34m{\u001b[0m\u001b[0;34m'I'\u001b[0m\u001b[0;34m:\u001b[0m\u001b[0;36m0\u001b[0m\u001b[0;34m,\u001b[0m\u001b[0;34m'L'\u001b[0m\u001b[0;34m:\u001b[0m\u001b[0;36m0\u001b[0m\u001b[0;34m}\u001b[0m\u001b[0;34m,\u001b[0m \u001b[0;34m{\u001b[0m\u001b[0;34m'L'\u001b[0m\u001b[0;34m:\u001b[0m\u001b[0;36m0\u001b[0m\u001b[0;34m,\u001b[0m\u001b[0;34m'G'\u001b[0m\u001b[0;34m:\u001b[0m\u001b[0;36m0\u001b[0m\u001b[0;34m}\u001b[0m\u001b[0;34m,\u001b[0m \u001b[0;34m{\u001b[0m\u001b[0;34m'I'\u001b[0m\u001b[0;34m:\u001b[0m\u001b[0;36m0\u001b[0m\u001b[0;34m,\u001b[0m\u001b[0;34m'G'\u001b[0m\u001b[0;34m:\u001b[0m\u001b[0;36m0\u001b[0m\u001b[0;34m,\u001b[0m\u001b[0;34m'L'\u001b[0m\u001b[0;34m:\u001b[0m\u001b[0;36m0\u001b[0m\u001b[0;34m}\u001b[0m\u001b[0;34m]\u001b[0m\u001b[0;34m:\u001b[0m\u001b[0;34m\u001b[0m\u001b[0m\n\u001b[1;32m      3\u001b[0m     \u001b[0;31m#conditional independence from D-separation\u001b[0m\u001b[0;34m\u001b[0m\u001b[0;34m\u001b[0m\u001b[0m\n\u001b[0;32m----> 4\u001b[0;31m     \u001b[0mCI_alg\u001b[0m \u001b[0;34m=\u001b[0m \u001b[0mis_cond_independent\u001b[0m\u001b[0;34m(\u001b[0m\u001b[0;34m[\u001b[0m\u001b[0;34m'D'\u001b[0m\u001b[0;34m]\u001b[0m\u001b[0;34m,\u001b[0m \u001b[0;34m[\u001b[0m\u001b[0;34m'S'\u001b[0m\u001b[0;34m]\u001b[0m\u001b[0;34m,\u001b[0m \u001b[0mZ\u001b[0m\u001b[0;34m.\u001b[0m\u001b[0mkeys\u001b[0m\u001b[0;34m(\u001b[0m\u001b[0;34m)\u001b[0m\u001b[0;34m,\u001b[0m \u001b[0mBN\u001b[0m\u001b[0;34m)\u001b[0m\u001b[0;34m\u001b[0m\u001b[0m\n\u001b[0m\u001b[1;32m      5\u001b[0m     \u001b[0;31m#conditional independence according to conditional probabilities\u001b[0m\u001b[0;34m\u001b[0m\u001b[0;34m\u001b[0m\u001b[0m\n\u001b[1;32m      6\u001b[0m     \u001b[0mCI_num\u001b[0m \u001b[0;34m=\u001b[0m \u001b[0mnp\u001b[0m\u001b[0;34m.\u001b[0m\u001b[0mmax\u001b[0m\u001b[0;34m(\u001b[0m\u001b[0mnp\u001b[0m\u001b[0;34m.\u001b[0m\u001b[0mabs\u001b[0m\u001b[0;34m(\u001b[0m\u001b[0mPr\u001b[0m\u001b[0;34m(\u001b[0m\u001b[0;34m[\u001b[0m\u001b[0;34m'D'\u001b[0m\u001b[0;34m,\u001b[0m\u001b[0;34m'S'\u001b[0m\u001b[0;34m]\u001b[0m\u001b[0;34m,\u001b[0m \u001b[0mZ\u001b[0m\u001b[0;34m,\u001b[0m \u001b[0mBN\u001b[0m\u001b[0;34m)\u001b[0m \u001b[0;34m-\u001b[0m \u001b[0mnp\u001b[0m\u001b[0;34m.\u001b[0m\u001b[0mouter\u001b[0m\u001b[0;34m(\u001b[0m\u001b[0mPr\u001b[0m\u001b[0;34m(\u001b[0m\u001b[0;34m[\u001b[0m\u001b[0;34m'D'\u001b[0m\u001b[0;34m]\u001b[0m\u001b[0;34m,\u001b[0m \u001b[0mZ\u001b[0m\u001b[0;34m,\u001b[0m \u001b[0mBN\u001b[0m\u001b[0;34m)\u001b[0m\u001b[0;34m,\u001b[0m\u001b[0mPr\u001b[0m\u001b[0;34m(\u001b[0m\u001b[0;34m[\u001b[0m\u001b[0;34m'S'\u001b[0m\u001b[0;34m]\u001b[0m\u001b[0;34m,\u001b[0m \u001b[0mZ\u001b[0m\u001b[0;34m,\u001b[0m \u001b[0mBN\u001b[0m\u001b[0;34m)\u001b[0m\u001b[0;34m)\u001b[0m\u001b[0;34m)\u001b[0m\u001b[0;34m)\u001b[0m \u001b[0;34m<\u001b[0m \u001b[0;36m1e-10\u001b[0m\u001b[0;34m\u001b[0m\u001b[0m\n",
      "\u001b[0;31mNameError\u001b[0m: name 'is_cond_independent' is not defined"
     ]
    }
   ],
   "source": [
    "domains = {'I':[0,1], 'L':[0,1], 'G':[0,1,2]}\n",
    "for Z in [{},{'I':0}, {'G':0}, {'L':0}, {'I':0,'G':0}, {'I':0,'L':0}, {'L':0,'G':0}, {'I':0,'G':0,'L':0}]:\n",
    "    #conditional independence from D-separation\n",
    "    CI_alg = is_cond_independent(['D'], ['S'], Z.keys(), BN)\n",
    "    #conditional independence according to conditional probabilities\n",
    "    CI_num = np.max(np.abs(Pr(['D','S'], Z, BN) - np.outer(Pr(['D'], Z, BN),Pr(['S'], Z, BN)))) < 1e-10\n",
    "    #they should match\n",
    "    assert(CI_num == CI_alg)\n",
    "print(\"passed the minimal test\")"
   ]
  },
  {
   "cell_type": "code",
   "execution_count": null,
   "metadata": {},
   "outputs": [],
   "source": []
  },
  {
   "cell_type": "code",
   "execution_count": null,
   "metadata": {},
   "outputs": [],
   "source": []
  }
 ],
 "metadata": {
  "kernelspec": {
   "display_name": "Python 3",
   "language": "python",
   "name": "python3"
  },
  "language_info": {
   "codemirror_mode": {
    "name": "ipython",
    "version": 3
   },
   "file_extension": ".py",
   "mimetype": "text/x-python",
   "name": "python",
   "nbconvert_exporter": "python",
   "pygments_lexer": "ipython3",
   "version": "3.5.6"
  }
 },
 "nbformat": 4,
 "nbformat_minor": 2
}
