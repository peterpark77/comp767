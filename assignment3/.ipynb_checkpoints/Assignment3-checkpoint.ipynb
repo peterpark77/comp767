{
 "cells": [
  {
   "cell_type": "markdown",
   "metadata": {
    "slideshow": {
     "slide_type": "-"
    }
   },
   "source": [
    "# ASSIGNMENT 3                                            McGill:COMP767 - FALL 2019 \n",
    "Student name (ID)"
   ]
  },
  {
   "cell_type": "markdown",
   "metadata": {
    "slideshow": {
     "slide_type": "-"
    }
   },
   "source": [
    "The objective of this assignment is to implement loopy belief propagation, and mean-field method for the Ising model, which we saw last time. Below is a review from the last assignment.\n",
    "\n",
    "#### Ising model\n",
    "The Ising model is fully expressed using a symmetric adjacency matrix $A$ (```adj```):\n",
    "\\begin{align}\n",
    "  p(x) = \\frac{1}{Z} \\exp(\\sum_{i} A_{i,i}x_i + \\sum_{i,j < i} x_i A_{i,j}x_j) \\quad x_i \\in \\{-1,+1\\}\n",
    "\\end{align}\n",
    "In words, the diagonal of $A$ represents the local field and interactions are captured by the remaining non-zero elements of $A$ (It is customary to have a negative sign in front of the summation, but for simplicity we dropped it.)\n",
    "The graph structure can also be inferred from the sparsity patter of $A$.\n",
    "Here, we are interested in deterministic sum-product inference.\n",
    "\n",
    "\n",
    "## Problem 1.  Loopy Belief Propagation\n",
    "\n",
    "### 1.a. (10 pts) \n",
    "Complete the implementation of loopy-BP below. (The base ```Inference``` class as well as ```CliqueTreeInference``` are included in the ```inference.py``` helper file.) \n",
    "Recall that the BP message $m_{i \\to j}$ for a pairwise MRF is the product of all incoming messages, and the relevant factors, marginalized over $x_i$. For the Ising model this is:\n",
    "\\begin{align} \n",
    "m_{i \\to j}(x_j) \\propto (1-\\alpha) m^{old}_{i \\to j}(x_j) \\, + \\, \\alpha \\sum_{x_i \\in \\{-1,+1\\}} \\left ( \\exp(x_i A_{i,i} + x_i A_{i,j} x_j) \\prod_{k \\in Nb(i)-j} m_{k \\to i}(x_i) \\right )\n",
    "\\end{align}\n",
    "where $\\alpha$ called the damping factor helps with the convergence. After convergence the marginals are:\n",
    "\\begin{align}\n",
    "p(x_i) \\propto \\exp(x_i A_{i,i}) \\prod_{j \\in Nb(i)} m_{j \\to i}(x_i)\n",
    "\\end{align}\n",
    "\n",
    "In the implementation below:\n",
    "Try to use only a single loop, which runs for a maximum of ```self.max_iters```. If you find this too challenging you can also loop over individual messages.\n",
    "The iterations should terminate as soon as the maximum change in the absolute value of the marginals in two iterations goes below ```self.eps```. To help with convergence you can damp (smoothed) your message update using the damping parameter ```self.damping``` \n",
    "\n",
    "#### using log-ratio of messages\n",
    "When dealing with a binary domain, it is more efficient to only track a single probability value (rather two values for the message $m_{i \\to j}(-1), m_{i \\to j}(+1)$ in the case of Ising model. Because this is redundant.) In fact, for numerical stability, it is convenient to track only the log-ratio $\\mu_{i \\to j} = \\log \\left( \\frac{m_{i \\to j}(+1)}{m_{i \\to j}(-1)} \\right )$. One could then try and rewrite the message update using $\\mu$ rather original $m$. This enables us to only track $\\mu$, and after convergence produce marginals using these log-ratios. we can also write the marginals for this setting. For this you need to substitute $m(1) = \\frac{1}{1 + e^{-\\mu}} = \\sigma(\\mu)$ and $m(-1) = 1 - \\sigma(\\mu)$ in the update equation above and simplify (if you decide __not__ to use log-ratios you may need to update other parts of the code below, which was written based on this assumption)\n",
    "\n",
    "### 1.a. solution"
   ]
  },
  {
   "cell_type": "code",
   "execution_count": 10,
   "metadata": {},
   "outputs": [
    {
     "ename": "SyntaxError",
     "evalue": "invalid syntax (inference.py, line 227)",
     "output_type": "error",
     "traceback": [
      "\u001b[0;36m  File \u001b[0;32m\"inference.py\"\u001b[0;36m, line \u001b[0;32m227\u001b[0m\n\u001b[0;31m    print(\"building the clique-tree ...\", flush=True)\u001b[0m\n\u001b[0m                                               ^\u001b[0m\n\u001b[0;31mSyntaxError\u001b[0m\u001b[0;31m:\u001b[0m invalid syntax\n"
     ]
    }
   ],
   "source": [
    "import numpy as np\n",
    "import matplotlib.pylab as plt\n",
    "import networkx as nx\n",
    "np.random.seed(12345)\n",
    "import timeit\n",
    "#removing some warnings!\n",
    "import warnings\n",
    "import matplotlib.cbook\n",
    "warnings.filterwarnings(\"ignore\",category=matplotlib.cbook.mplDeprecation)\n",
    "from utils import tensor_mult, draw_graph, logistic\n",
    "from inference import Inference, CliqueTreeInference\n",
    "from IPython.core.debugger import set_trace\n"
   ]
  },
  {
   "cell_type": "code",
   "execution_count": null,
   "metadata": {
    "scrolled": true,
    "slideshow": {
     "slide_type": "-"
    }
   },
   "outputs": [],
   "source": [
    "import numpy as np\n",
    "import matplotlib.pylab as plt\n",
    "import networkx as nx\n",
    "np.random.seed(12345)\n",
    "import timeit\n",
    "#removing some warnings!\n",
    "import warnings\n",
    "import matplotlib.cbook\n",
    "warnings.filterwarnings(\"ignore\",category=matplotlib.cbook.mplDeprecation)\n",
    "from utils import tensor_mult, draw_graph, logistic\n",
    "from inference import Inference, CliqueTreeInference\n",
    "from IPython.core.debugger import set_trace\n",
    "\n",
    "class LBPInference(Inference):\n",
    "    \"\"\"\n",
    "    implements sum-product loopy belief propagation inference \n",
    "    for  p(x) \\propto exp(+\\sum_{i,j<i} x_i x_j adj[i,j] + \\sum_{i} x_i adj[i,i]) for  x_i \\in {-1,+1}\n",
    "    \"\"\"\n",
    "    def __init__(self,\n",
    "                 adj,\n",
    "                 verbosity=0,\n",
    "                 max_iters=1000,  # max number of iterations\n",
    "                 damping=.1,  # damping=0 means no damping\n",
    "                 eps=1e-16,  # threshold for convergence\n",
    "    ):\n",
    "        Inference.__init__(self, adj, verbosity=verbosity)\n",
    "        self.damping = damping\n",
    "        self.max_iters = max_iters\n",
    "        # (i,j)th element is the log-ratio of message i->j\n",
    "        self.msg_new = None\n",
    "        self.msg_old = None\n",
    "        self.marginals = None\n",
    "        self.converged = False\n",
    "        self.mask = None  # zero-one mask for the adjacency (zero diagonals)\n",
    "        self.eps = eps\n",
    "        self._initialize()\n",
    "        self.adj = adj\n",
    "\n",
    "    def update_adjacency(self, new_adj):\n",
    "        self.adj = new_adj\n",
    "        self._initialize()\n",
    "\n",
    "    def _initialize(self):\n",
    "        n = self.adj.shape[0]\n",
    "        self.msg_new = np.zeros((n , n))\n",
    "        self.msg_old = np.zeros((n , n))\n",
    "        self.marginals = np.zeros(n)\n",
    "        mask = (self.adj != 0)\n",
    "        np.fill_diagonal(mask, 0)\n",
    "        self.mask = mask\n",
    "        self.converged = False\n",
    "\n",
    "    def _apply_damping(self, msg_new, msg_old):\n",
    "        #convert to probability\n",
    "        msg_new_p = logistic(msg_new)\n",
    "        msg_old_p = logistic(msg_old)\n",
    "        msg_p = msg_old_p * (self.damping) + msg_new_p * (1. - self.damping)\n",
    "        # convert back to log-ratio\n",
    "        msg = np.log(msg_p) - np.log(1. - msg_p)\n",
    "        return msg\n",
    "    \n",
    "    def _inference(self):\n",
    "        if self._verbosity > 0:\n",
    "            print(\"running BP\", flush = True)\n",
    "        t = 0\n",
    "        while t < self.max_iters:\n",
    "            self.msg_old = self.msg_new.copy()\n",
    "            for i in range(0, n):\n",
    "                for j in range(0, n):\n",
    "                    if self.mask[i,j] != 0:\n",
    "                        neighbours = self.mask[i].copy()\n",
    "\n",
    "                        neighbours[j] = 0\n",
    "                        num = np.logaddexp((self.adj[i][i] + self.adj[i][j] + \\\n",
    "                        np.sum(self.msg_old[:,i][neighbours])), (-self.adj[i][i] - self.adj[i][j]))                   \n",
    "                        den = np.logaddexp((self.adj[i][i] - self.adj[i][j] + \\\n",
    "                        np.sum(self.msg_old[:,i][neighbours])), (-self.adj[i][i] + self.adj[i][j]))\n",
    "                        self.msg_new[i][j] = num - den\n",
    "            t += 1\n",
    "            if np.amax(np.absolute(self.msg_new - self.msg_old)) < self.eps:\n",
    "                break\n",
    "        \n",
    "        new_marginals = np.sum(self.msg_new, 0) +np.diagonal(self.adj)*2\n",
    "        self.marginals = new_marginals\n",
    "        if self._verbosity > 0:\n",
    "            print(\"finished after {} iterations!\".format(t), flush = True)\n",
    "    def get_marginal(self, target):\n",
    "        if not self.converged:\n",
    "            self._inference()\n",
    "            self.converged = True\n",
    "        mrg = logistic(self.marginals)[target]\n",
    "        return mrg\n"
   ]
  },
  {
   "cell_type": "markdown",
   "metadata": {
    "slideshow": {
     "slide_type": "-"
    }
   },
   "source": [
    "If the implementation above is correct, it should return exact marginals for the tree structure below. You can use this to debug your code (We are comparing the ```LBPInference``` marginals against the exact values returned by ```CliqueTreeInference```.) "
   ]
  },
  {
   "cell_type": "code",
   "execution_count": null,
   "metadata": {
    "slideshow": {
     "slide_type": "-"
    }
   },
   "outputs": [],
   "source": [
    "#build a tree \n",
    "tree = nx.balanced_tree(3, 4)\n",
    "n = nx.number_of_nodes(tree)\n",
    "mask = np.array(nx.adjacency_matrix(tree).todense())\n",
    "# create a random interaction over the edges\n",
    "np.fill_diagonal(mask, 1.)\n",
    "adj = mask * np.random.randn(n , n)\n",
    "# make it symmetric\n",
    "zero_inds = np.tril_indices_from(adj,-1)\n",
    "adj[zero_inds] = 0        \n",
    "adj += adj.T.copy()\n",
    "# do inference\n",
    "true_margs = CliqueTreeInference(adj).get_marginal(list(range(adj.shape[0])))            \n",
    "bp_margs = LBPInference(adj).get_marginal(list(range(adj.shape[0])))\n",
    "assert np.mean(np.abs(true_margs - bp_margs)) < 1e-10, \"LBP marginals are not exact\"\n"
   ]
  },
  {
   "cell_type": "markdown",
   "metadata": {
    "slideshow": {
     "slide_type": "-"
    }
   },
   "source": [
    "### 1.c. (5 pts) \n",
    "apply it to $n×n$ 2D-grids (```grid_2d_graph```), of increasing size $n \\in \\{2, 4, 6, 8, 15\\}$,\n",
    "and compare its run-time with clique-tree. The x-axis in the plot is the number of nodes $n$ and y-axis is the run-time (use logarithmic scale). Repeat your experiment at least 10 times to produce an error-bars for your plot.\n",
    "\n",
    "### 1.c. solution"
   ]
  },
  {
   "cell_type": "code",
   "execution_count": null,
   "metadata": {},
   "outputs": [],
   "source": []
  },
  {
   "cell_type": "code",
   "execution_count": null,
   "metadata": {
    "slideshow": {
     "slide_type": "-"
    }
   },
   "outputs": [],
   "source": [
    "# >>>> YOUR CODE HERE >>>>>>>\n",
    "import time\n",
    "\n",
    "\n",
    "def make_matrix(rows, cols):\n",
    "    n = rows*cols\n",
    "    M = np.zeros((n,n))\n",
    "    for r in range(0, rows):\n",
    "        for c in range(0, cols):\n",
    "            i = r*cols + c\n",
    "            # Two inner diagonals\n",
    "            if c > 0: M[i-1,i] = M[i,i-1] = 1\n",
    "            # Two outer diagonals\n",
    "            if r > 0: M[i-cols,i] = M[i,i-cols] = 1\n",
    "    return M\n",
    "\n",
    "N = [2,4,6,8,15]\n",
    "\n",
    "trials = 20\n",
    "\n",
    "experiments = []\n",
    "\n",
    "for i in range(0,trials):\n",
    "    exp = []\n",
    "    for n in N:\n",
    "        grid_2d_graph = make_matrix(n,n)\n",
    "\n",
    "        start = time.time()\n",
    "\n",
    "        true_margs = CliqueTreeInference(grid_2d_graph).get_marginal(list(range(grid_2d_graph.shape[0])))            \n",
    "        bp_margs = LBPInference(grid_2d_graph).get_marginal(list(range(grid_2d_graph.shape[0])))\n",
    "        assert np.mean(np.abs(true_margs - bp_margs)) < 1e-10, \"LBP marginals are not exact\"\n",
    "\n",
    "        end = time.time()\n",
    "        \n",
    "        exp.append(end-start)\n",
    "        \n",
    "    experiments.append(exp)\n",
    "    \n",
    "\n",
    "Y = np.log(np.mean(experiments, axis = 0))\n",
    "\n",
    "errors = np.log(np.sqrt(np.std(experiments, axis = 0)))\n",
    "    \n",
    "plt.plot(N, Y, \"-o\")\n",
    "plt.errorbar(N, Y, yerr=errors)\n",
    "\n",
    "plt.xlabel('number of nodes')\n",
    "plt.ylabel('run-time')\n",
    "plt.title('Experiments of run-time vs number of nodes (Logarithmic scale)')\n",
    "# >>>> YOUR CODE HERE >>>>>>>\n",
    "\n",
    "\n"
   ]
  },
  {
   "cell_type": "markdown",
   "metadata": {
    "slideshow": {
     "slide_type": "-"
    }
   },
   "source": [
    "## Problem 2. Mean Field (15 pts)\n",
    "\n",
    "### 2.a. (8 pts)\n",
    "Complete the implementation of naive mean-field below. \n",
    "You can refer to slides for derivation of the updates for the Ising model.\n",
    "In the implementation below: \n",
    "Try to use only a single loop, which repeats for a a maximum of ```self.max_iters```. \n",
    "The loop can terminate as soon as the maximum of the absolute value of change in the marginals \n",
    "between two iterations goes below ```self.eps```.\n",
    "For better convergence try damping (smoothing) the updates, using the damping parameter ```self.damping```.\n",
    "\n",
    "### 2.a. solution"
   ]
  },
  {
   "cell_type": "code",
   "execution_count": 118,
   "metadata": {},
   "outputs": [],
   "source": [
    "class MFInference(Inference):\n",
    "    \"\"\"\n",
    "    implements parallel update of naive mean-field for the Ising model\n",
    "    mean-field is guaranteed to converge to a local optima, when updating \n",
    "    one coordinate at a time. Here, since for efficiency/simplicity we update all coordinates simultaneously,\n",
    "    we may need to use damping to help with convergence\n",
    "    for  p(x) \\propto exp(+\\sum_{i,j<i} x_i x_j adj[i,j] + \\sum_{i} x_i adj[i,i]) for  x_i \\in {-1,+1}\n",
    "    \"\"\"\n",
    "    \n",
    "    def __init__(self,\n",
    "                 adj,  # adjacency matrix for the Ising model\n",
    "                 verbosity=0,\n",
    "                 max_iters=1000,  # max number of iterations\n",
    "                 eps=1e-16,  # threshold for convergence\n",
    "                 damping=.5, # because we are using parallel updates, 0 means no damping\n",
    "    ):\n",
    "        Inference.__init__(self, adj, verbosity=verbosity)\n",
    "        self.damping = damping\n",
    "        self.max_iters = max_iters\n",
    "        # (i,j)th element is the log-ratio of message i->j\n",
    "        self.means = None\n",
    "        self.converged = False\n",
    "        self.adj_masked = None  # adjacency matrix with zero diagonals\n",
    "        self.eps = eps\n",
    "        self._initialize()\n",
    "\n",
    "    def update_adjacency(self, new_adj):\n",
    "        self.adj = new_adj\n",
    "        self._initialize()\n",
    "\n",
    "    def _initialize(self):\n",
    "        n = self.adj.shape[0]\n",
    "        self.means = np.zeros(n)\n",
    "        adj_masked = self.adj.copy()\n",
    "        np.fill_diagonal(adj_masked, 0)\n",
    "        self.adj_masked = adj_masked\n",
    "        self.converged = False\n",
    "\n",
    "    def _inference(self):\n",
    "        if self._verbosity > 0:\n",
    "            print(\"running MF\", flush = True)\n",
    "        # >>>> YOUR CODE HERE >>>>>>>\n",
    "        t = 0\n",
    "        while t < self.max_iters:\n",
    "            self.msg_old = self.msg_new.copy()\n",
    "            for i in range(0, n):\n",
    "                m = self.adj[i][i] \n",
    "                for j in range(0, n):\n",
    "                    if i > 0:\n",
    "                        m += self.adj[i-1][j]\n",
    "                    if i < n-1:\n",
    "                        m += self.adj[i+1][j]\n",
    "                    if j > 0 :\n",
    "                        m += self.adj[i][j-1]\n",
    "                    if j < n-1:\n",
    "                        m += self.adj[i][j+1]\n",
    "            t += 1\n",
    "            if np.amax(np.absolute(self.msg_new - self.msg_old)) < self.eps:\n",
    "                break\n",
    "        \n",
    "                self.means[i] = 2*logistic(2*m) - 1\n",
    "        # >>>> YOUR CODE HERE >>>>>>>\n",
    "        if self._verbosity > 0:\n",
    "            print(\"finished after {} iterations!\".format(t), flush = True)\n",
    "                \n",
    "    def get_marginal(self, target):\n",
    "        if not self.converged:\n",
    "            self._inference()\n",
    "            self.converged = True\n",
    "        # converting the mean ([-1,+1] range) to the p(x_i = 1) [0,1] range\n",
    "        mrg = (self.means[target] + 1.)/2.\n",
    "        return mrg"
   ]
  },
  {
   "cell_type": "markdown",
   "metadata": {},
   "source": [
    "### 2.b (7 pts)\n",
    "Now, we can can compare the accuracy of belief propagation and mean-field in approximate inference.\n",
    "For this experiment, we use a fixed $15\\times15$ 2D grid (without periodic boundaries).\n",
    "To control the difficulty of the inference problem, we adjust the temperature parameter $T$.\n",
    "This corresponds to multiplication of the adjacency matrix $A$ with a constant. Large temperatures,\n",
    "correspond to lower values of interaction $A_{ij}$, which reduces interdependency of variables:\n",
    "\\begin{align}\n",
    "  p^{\\frac{1}{T}}(x) = \\frac{1}{Z(T)} \\exp(\\frac{1}{T}\\sum_{i} A_{i,i}x_i + \\frac{1}{T} \\sum_{i,j < i} x_iA_{i,j}x_j) \\quad x_i \\in \\{-1,+1\\}\n",
    "\\end{align}\n",
    "We sample the non-zero elements of $A$, from a standard normal distribution, and adjust\n",
    "the difficulty of approximate inference by changing $T \\in \\{2^{-4},2^{-3},\\ldots, 2^{9}\\}$.\n",
    "Use the mean-absolute-error of all the univariate marginals as a measure of accuracy of approximate inference, and plot temperature-vs-accuracy for both naive mean-field and loopy belief propagation.\n",
    "Note that to measure the _error_, first you have to perform _exact inference_ on the same graphical model using ```CliqueTreeInference```, to obtain the exact marginals.\n",
    "Repeat the experiment 10 times and produce error-bars for your difficulty-vs-accuracy plot (use logarithmic scale for both x and y).\n",
    "Summarize what you see in the plot.\n",
    "\n",
    "### 2.b solution\n"
   ]
  },
  {
   "cell_type": "code",
   "execution_count": 4,
   "metadata": {},
   "outputs": [],
   "source": [
    "T = [2**x for x in range(-4,10)]\n",
    "\n"
   ]
  },
  {
   "cell_type": "code",
   "execution_count": 11,
   "metadata": {},
   "outputs": [
    {
     "ename": "NameError",
     "evalue": "name 'CliqueTreeInference' is not defined",
     "output_type": "error",
     "traceback": [
      "\u001b[0;31m---------------------------------------------------------------------------\u001b[0m",
      "\u001b[0;31mNameError\u001b[0m                                 Traceback (most recent call last)",
      "\u001b[0;32m<ipython-input-11-f2e3d6a4683d>\u001b[0m in \u001b[0;36m<module>\u001b[0;34m()\u001b[0m\n\u001b[1;32m     11\u001b[0m \u001b[0madj\u001b[0m \u001b[0;34m+=\u001b[0m \u001b[0madj\u001b[0m\u001b[0;34m.\u001b[0m\u001b[0mT\u001b[0m\u001b[0;34m.\u001b[0m\u001b[0mcopy\u001b[0m\u001b[0;34m(\u001b[0m\u001b[0;34m)\u001b[0m\u001b[0;34m\u001b[0m\u001b[0m\n\u001b[1;32m     12\u001b[0m \u001b[0;31m# do inference\u001b[0m\u001b[0;34m\u001b[0m\u001b[0;34m\u001b[0m\u001b[0m\n\u001b[0;32m---> 13\u001b[0;31m \u001b[0mtrue_margs\u001b[0m \u001b[0;34m=\u001b[0m \u001b[0mCliqueTreeInference\u001b[0m\u001b[0;34m(\u001b[0m\u001b[0madj\u001b[0m\u001b[0;34m)\u001b[0m\u001b[0;34m.\u001b[0m\u001b[0mget_marginal\u001b[0m\u001b[0;34m(\u001b[0m\u001b[0mlist\u001b[0m\u001b[0;34m(\u001b[0m\u001b[0mrange\u001b[0m\u001b[0;34m(\u001b[0m\u001b[0madj\u001b[0m\u001b[0;34m.\u001b[0m\u001b[0mshape\u001b[0m\u001b[0;34m[\u001b[0m\u001b[0;36m0\u001b[0m\u001b[0;34m]\u001b[0m\u001b[0;34m)\u001b[0m\u001b[0;34m)\u001b[0m\u001b[0;34m)\u001b[0m\u001b[0;34m\u001b[0m\u001b[0m\n\u001b[0m\u001b[1;32m     14\u001b[0m \u001b[0mbp_margs\u001b[0m \u001b[0;34m=\u001b[0m \u001b[0mMFInference\u001b[0m\u001b[0;34m(\u001b[0m\u001b[0madj\u001b[0m\u001b[0;34m)\u001b[0m\u001b[0;34m.\u001b[0m\u001b[0mget_marginal\u001b[0m\u001b[0;34m(\u001b[0m\u001b[0mlist\u001b[0m\u001b[0;34m(\u001b[0m\u001b[0mrange\u001b[0m\u001b[0;34m(\u001b[0m\u001b[0madj\u001b[0m\u001b[0;34m.\u001b[0m\u001b[0mshape\u001b[0m\u001b[0;34m[\u001b[0m\u001b[0;36m0\u001b[0m\u001b[0;34m]\u001b[0m\u001b[0;34m)\u001b[0m\u001b[0;34m)\u001b[0m\u001b[0;34m)\u001b[0m\u001b[0;34m\u001b[0m\u001b[0m\n\u001b[1;32m     15\u001b[0m \u001b[0;32massert\u001b[0m \u001b[0mnp\u001b[0m\u001b[0;34m.\u001b[0m\u001b[0mmean\u001b[0m\u001b[0;34m(\u001b[0m\u001b[0mnp\u001b[0m\u001b[0;34m.\u001b[0m\u001b[0mabs\u001b[0m\u001b[0;34m(\u001b[0m\u001b[0mtrue_margs\u001b[0m \u001b[0;34m-\u001b[0m \u001b[0mbp_margs\u001b[0m\u001b[0;34m)\u001b[0m\u001b[0;34m)\u001b[0m \u001b[0;34m<\u001b[0m \u001b[0;36m1e-10\u001b[0m\u001b[0;34m,\u001b[0m \u001b[0;34m\"LBP marginals are not exact\"\u001b[0m\u001b[0;34m\u001b[0m\u001b[0m\n",
      "\u001b[0;31mNameError\u001b[0m: name 'CliqueTreeInference' is not defined"
     ]
    }
   ],
   "source": [
    "#build a tree \n",
    "tree = nx.balanced_tree(3, 4)\n",
    "n = nx.number_of_nodes(tree)\n",
    "mask = np.array(nx.adjacency_matrix(tree).todense())\n",
    "# create a random interaction over the edges\n",
    "np.fill_diagonal(mask, 1.)\n",
    "adj = mask * np.random.randn(n , n)\n",
    "# make it symmetric\n",
    "zero_inds = np.tril_indices_from(adj,-1)\n",
    "adj[zero_inds] = 0        \n",
    "adj += adj.T.copy()\n",
    "# do inference\n",
    "true_margs = CliqueTreeInference(adj).get_marginal(list(range(adj.shape[0])))            \n",
    "bp_margs = MFInference(adj).get_marginal(list(range(adj.shape[0])))\n",
    "assert np.mean(np.abs(true_margs - bp_margs)) < 1e-10, \"LBP marginals are not exact\"\n"
   ]
  },
  {
   "cell_type": "code",
   "execution_count": 8,
   "metadata": {},
   "outputs": [
    {
     "ename": "NameError",
     "evalue": "name 'make_matrix' is not defined",
     "output_type": "error",
     "traceback": [
      "\u001b[0;31m---------------------------------------------------------------------------\u001b[0m",
      "\u001b[0;31mNameError\u001b[0m                                 Traceback (most recent call last)",
      "\u001b[0;32m<ipython-input-8-c2a1cdbbb025>\u001b[0m in \u001b[0;36m<module>\u001b[0;34m()\u001b[0m\n\u001b[1;32m      1\u001b[0m \u001b[0mexperiments\u001b[0m \u001b[0;34m=\u001b[0m \u001b[0;34m[\u001b[0m\u001b[0;34m]\u001b[0m\u001b[0;34m\u001b[0m\u001b[0m\n\u001b[1;32m      2\u001b[0m \u001b[0;32mfor\u001b[0m \u001b[0mt\u001b[0m \u001b[0;32min\u001b[0m \u001b[0mT\u001b[0m\u001b[0;34m:\u001b[0m\u001b[0;34m\u001b[0m\u001b[0m\n\u001b[0;32m----> 3\u001b[0;31m     \u001b[0mgrid_2d_graph\u001b[0m \u001b[0;34m=\u001b[0m \u001b[0mmake_matrix\u001b[0m\u001b[0;34m(\u001b[0m\u001b[0;36m15\u001b[0m\u001b[0;34m,\u001b[0m\u001b[0;36m15\u001b[0m\u001b[0;34m)\u001b[0m\u001b[0;34m\u001b[0m\u001b[0m\n\u001b[0m\u001b[1;32m      4\u001b[0m     \u001b[0mexp\u001b[0m \u001b[0;34m=\u001b[0m \u001b[0;34m[\u001b[0m\u001b[0;34m]\u001b[0m\u001b[0;34m\u001b[0m\u001b[0m\n\u001b[1;32m      5\u001b[0m     \u001b[0;32mfor\u001b[0m \u001b[0mn\u001b[0m \u001b[0;32min\u001b[0m \u001b[0mrange\u001b[0m\u001b[0;34m(\u001b[0m\u001b[0;36m0\u001b[0m\u001b[0;34m,\u001b[0m\u001b[0;36m10\u001b[0m\u001b[0;34m)\u001b[0m\u001b[0;34m:\u001b[0m\u001b[0;34m\u001b[0m\u001b[0m\n",
      "\u001b[0;31mNameError\u001b[0m: name 'make_matrix' is not defined"
     ]
    }
   ],
   "source": [
    "experiments = []\n",
    "for t in T:\n",
    "    grid_2d_graph = make_matrix(15,15)\n",
    "    exp = []\n",
    "    for n in range(0,10):\n",
    "\n",
    "        start = time.time()\n",
    "        \n",
    "        grid_2d_graph\n",
    "\n",
    "        true_margs = CliqueTreeInference(grid_2d_graph).get_marginal(list(range(grid_2d_graph.shape[0])))            \n",
    "        bp_margs = LBPInference(grid_2d_graph).get_marginal(list(range(grid_2d_graph.shape[0])))\n",
    "        assert np.mean(np.abs(true_margs - bp_margs)) < 1e-10, \"LBP marginals are not exact\"\n",
    "\n",
    "        end = time.time()\n",
    "        \n",
    "        exp.append(end-start)\n",
    "        \n",
    "    experiments.append(exp)\n",
    "\n",
    "    grid_2d_graph/t\n",
    "    \n",
    "\n",
    "Y = np.log(np.mean(experiments, axis = 0))\n",
    "\n",
    "errors = np.log(np.sqrt(np.std(experiments, axis = 0)))\n",
    "    \n",
    "plt.plot(N, Y, \"-o\")\n",
    "plt.errorbar(N, Y, yerr=errors)\n",
    "\n",
    "plt.xlabel('number of nodes')\n",
    "plt.ylabel('run-time')\n",
    "plt.title('Experiments of run-time vs number of nodes (Logarithmic scale)')\n",
    "# >>>> YOUR CODE HERE >>>>>>>\n",
    "\n"
   ]
  },
  {
   "cell_type": "code",
   "execution_count": null,
   "metadata": {},
   "outputs": [],
   "source": []
  }
 ],
 "metadata": {
  "kernelspec": {
   "display_name": "Python 2",
   "language": "python",
   "name": "python2"
  },
  "language_info": {
   "codemirror_mode": {
    "name": "ipython",
    "version": 2
   },
   "file_extension": ".py",
   "mimetype": "text/x-python",
   "name": "python",
   "nbconvert_exporter": "python",
   "pygments_lexer": "ipython2",
   "version": "2.7.16"
  }
 },
 "nbformat": 4,
 "nbformat_minor": 2
}
